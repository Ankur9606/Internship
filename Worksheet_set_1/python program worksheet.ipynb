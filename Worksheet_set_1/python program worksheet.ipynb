{
 "cells": [
  {
   "cell_type": "code",
   "execution_count": 1,
   "id": "31c14476",
   "metadata": {},
   "outputs": [],
   "source": [
    "##Factorial of the number n!= n*(n-1)\n",
    "def factorial(n):\n",
    "    a=1\n",
    "    for i in range(n):\n",
    "        \n",
    "        a=n*a\n",
    "        n=n-1\n",
    "             \n",
    "    print(a)\n",
    "        \n",
    "    "
   ]
  },
  {
   "cell_type": "code",
   "execution_count": 2,
   "id": "4d0aa917",
   "metadata": {},
   "outputs": [
    {
     "name": "stdout",
     "output_type": "stream",
     "text": [
      "120\n"
     ]
    }
   ],
   "source": [
    "factorial(5)"
   ]
  },
  {
   "cell_type": "code",
   "execution_count": 22,
   "id": "bd8e9643",
   "metadata": {},
   "outputs": [
    {
     "name": "stdout",
     "output_type": "stream",
     "text": [
      "Enter the number: 13\n",
      "It is prime number:  13\n"
     ]
    }
   ],
   "source": [
    "## Program to check the number is prime or composite\n",
    "n=int(input(\"Enter the number: \"))\n",
    "if n>1:\n",
    "    for i in range(2,n):\n",
    "        if n%i==0:\n",
    "            print('It is composite number: ',n)\n",
    "            break\n",
    "    else:\n",
    "        print('It is prime number: ',n)\n",
    "            "
   ]
  },
  {
   "cell_type": "code",
   "execution_count": 30,
   "id": "0750d40f",
   "metadata": {},
   "outputs": [],
   "source": [
    "## Program to check the string is palindrome or not\n",
    "def isPalindrome(s):\n",
    "    return s==s[::-1]\n",
    "\n",
    "    if s==s[::-1]:\n",
    "        print('True')\n",
    "    else:\n",
    "        print('False')"
   ]
  },
  {
   "cell_type": "code",
   "execution_count": 28,
   "id": "66b44814",
   "metadata": {},
   "outputs": [
    {
     "data": {
      "text/plain": [
       "True"
      ]
     },
     "execution_count": 28,
     "metadata": {},
     "output_type": "execute_result"
    }
   ],
   "source": [
    "s='MalayalaM'\n",
    "isPalindrome(s)"
   ]
  },
  {
   "cell_type": "code",
   "execution_count": 1,
   "id": "8a6c9602",
   "metadata": {},
   "outputs": [],
   "source": [
    "## Python program to find third side of right angled triangle \n",
    "from math import sqrt"
   ]
  },
  {
   "cell_type": "code",
   "execution_count": 2,
   "id": "8c0ece35",
   "metadata": {},
   "outputs": [
    {
     "name": "stdout",
     "output_type": "stream",
     "text": [
      "Enter any value: 2\n",
      "Enter any value: 3\n",
      "Third side of triange is:  3.605551275463989\n"
     ]
    }
   ],
   "source": [
    "a=float(input(\"Enter any value: \"))\n",
    "b=float(input(\"Enter any value: \"))\n",
    "h=sqrt(a**2+b**2)\n",
    "print(\"Third side of triange is: \",h)"
   ]
  },
  {
   "cell_type": "code",
   "execution_count": 4,
   "id": "3e88f95e",
   "metadata": {},
   "outputs": [
    {
     "name": "stdout",
     "output_type": "stream",
     "text": [
      "{'I': 1, ' ': 3, 'a': 4, 'm': 1, 'l': 1, 'e': 3, 'r': 1, 'n': 3, 'i': 2, 'g': 1, 'd': 1, 't': 1, 's': 1, 'c': 2}\n"
     ]
    }
   ],
   "source": [
    "## Python program to find frequency of each charcter in string\n",
    "word= \"I am learning datascience\"\n",
    "l=list(word)\n",
    "freq=[l.count(ele) for ele in l]\n",
    "d=dict(zip(l,freq))\n",
    "print(d)"
   ]
  },
  {
   "cell_type": "code",
   "execution_count": null,
   "id": "b5342a50",
   "metadata": {},
   "outputs": [],
   "source": []
  }
 ],
 "metadata": {
  "kernelspec": {
   "display_name": "Python 3 (ipykernel)",
   "language": "python",
   "name": "python3"
  },
  "language_info": {
   "codemirror_mode": {
    "name": "ipython",
    "version": 3
   },
   "file_extension": ".py",
   "mimetype": "text/x-python",
   "name": "python",
   "nbconvert_exporter": "python",
   "pygments_lexer": "ipython3",
   "version": "3.7.3"
  }
 },
 "nbformat": 4,
 "nbformat_minor": 5
}
