{
 "cells": [
  {
   "cell_type": "code",
   "execution_count": 1,
   "id": "4f79fb62",
   "metadata": {},
   "outputs": [],
   "source": [
    "import selenium\n"
   ]
  },
  {
   "cell_type": "code",
   "execution_count": 2,
   "id": "5f589f37",
   "metadata": {},
   "outputs": [],
   "source": [
    "from selenium import webdriver"
   ]
  },
  {
   "cell_type": "code",
   "execution_count": 85,
   "id": "a118f512",
   "metadata": {},
   "outputs": [
    {
     "name": "stderr",
     "output_type": "stream",
     "text": [
      "C:\\Users\\User\\AppData\\Local\\Temp\\ipykernel_4396\\101893016.py:1: DeprecationWarning: executable_path has been deprecated, please pass in a Service object\n",
      "  driver=webdriver.Chrome('chromedriver.exe')\n"
     ]
    }
   ],
   "source": [
    "driver=webdriver.Chrome('chromedriver.exe')"
   ]
  },
  {
   "cell_type": "markdown",
   "id": "af994ef6",
   "metadata": {},
   "source": [
    "##1. we have to scrape Data Analyst job role."
   ]
  },
  {
   "cell_type": "code",
   "execution_count": 86,
   "id": "ea906f7b",
   "metadata": {},
   "outputs": [],
   "source": [
    "url='https://www.naukri.com/'\n",
    "driver.get(url)"
   ]
  },
  {
   "cell_type": "code",
   "execution_count": 87,
   "id": "f1294b10",
   "metadata": {},
   "outputs": [],
   "source": [
    "from selenium.webdriver.common.by import By\n",
    "\n",
    "\n",
    "search_job=driver.find_elements(By.CLASS_NAME,\"suggestor-input \")"
   ]
  },
  {
   "cell_type": "code",
   "execution_count": 88,
   "id": "c41e4791",
   "metadata": {},
   "outputs": [
    {
     "name": "stdout",
     "output_type": "stream",
     "text": [
      "[<selenium.webdriver.remote.webelement.WebElement (session=\"ee9c5e734093bc70e4b7ab693503f374\", element=\"0e79b9a3-bf1c-459d-8e33-f60d7da73e5c\")>, <selenium.webdriver.remote.webelement.WebElement (session=\"ee9c5e734093bc70e4b7ab693503f374\", element=\"11cd388e-e628-4bca-b7c2-e1f50e363b44\")>]\n"
     ]
    }
   ],
   "source": [
    "print(search_job)\n"
   ]
  },
  {
   "cell_type": "code",
   "execution_count": 89,
   "id": "f651d027",
   "metadata": {},
   "outputs": [],
   "source": [
    "from selenium.webdriver.common.keys import Keys\n",
    "\n",
    "search_job[0].send_keys('Data Analyst')"
   ]
  },
  {
   "cell_type": "code",
   "execution_count": 90,
   "id": "509b197f",
   "metadata": {},
   "outputs": [],
   "source": [
    "search_loc=driver.find_element(By.XPATH,'/html/body/div[1]/div[2]/div[3]/div/div/div[5]/div/div/div/input')"
   ]
  },
  {
   "cell_type": "code",
   "execution_count": 91,
   "id": "e77c58a3",
   "metadata": {},
   "outputs": [
    {
     "name": "stdout",
     "output_type": "stream",
     "text": [
      "<selenium.webdriver.remote.webelement.WebElement (session=\"ee9c5e734093bc70e4b7ab693503f374\", element=\"11cd388e-e628-4bca-b7c2-e1f50e363b44\")>\n"
     ]
    }
   ],
   "source": [
    "print(search_loc)"
   ]
  },
  {
   "cell_type": "code",
   "execution_count": 92,
   "id": "73a05584",
   "metadata": {},
   "outputs": [],
   "source": [
    "search_loc.send_keys('BANGLORE')"
   ]
  },
  {
   "cell_type": "code",
   "execution_count": 93,
   "id": "ee0c881b",
   "metadata": {},
   "outputs": [],
   "source": [
    "search=driver.find_element(By.CLASS_NAME,'qsbSubmit').click()"
   ]
  },
  {
   "cell_type": "code",
   "execution_count": 94,
   "id": "2993b494",
   "metadata": {},
   "outputs": [],
   "source": [
    "title_tags=driver.find_elements(By.XPATH,'//a[@class=\"title fw500 ellipsis\"]')"
   ]
  },
  {
   "cell_type": "code",
   "execution_count": 95,
   "id": "b1253663",
   "metadata": {},
   "outputs": [
    {
     "data": {
      "text/plain": [
       "20"
      ]
     },
     "execution_count": 95,
     "metadata": {},
     "output_type": "execute_result"
    }
   ],
   "source": [
    "len(title_tags)"
   ]
  },
  {
   "cell_type": "code",
   "execution_count": 96,
   "id": "078b6baa",
   "metadata": {},
   "outputs": [
    {
     "name": "stdout",
     "output_type": "stream",
     "text": [
      "['Sr.Business Data Analyst', 'Data Analyst - CRM Platform', 'Hiring Data Analyst - Forensics, KPMG India', 'Data Analyst/Senior Data Analyst', 'Senior Data Analyst II', 'Business Analyst / Data Analyst', 'Software Technical Expert - Data Analyst', 'Reference Data Analyst', 'Sales Data Analyst', 'Data Analyst', 'Lead Data Analyst', 'Data Analyst', 'Big data analyst', 'Data Analyst', 'Data Analyst', 'Senior Business Analyst, Data Analytics & Engineering-DATA Engineer', 'Senior Data Analyst', 'Data Analyst / Lead Analyst', 'Data Analyst - Marketplace', 'Hiring Data Analysts - Virtusa']\n"
     ]
    }
   ],
   "source": [
    "job_titles=[]\n",
    "\n",
    "for i in title_tags:\n",
    "    job_titles.append(i.text)\n",
    "print(job_titles)"
   ]
  },
  {
   "cell_type": "code",
   "execution_count": 97,
   "id": "72d18b56",
   "metadata": {},
   "outputs": [],
   "source": [
    "jobtitle=job_titles[0:10]"
   ]
  },
  {
   "cell_type": "code",
   "execution_count": 98,
   "id": "f0662d7e",
   "metadata": {},
   "outputs": [],
   "source": [
    "comp_tags=driver.find_elements(By.XPATH,'//a[@class=\"subTitle ellipsis fleft\"]')"
   ]
  },
  {
   "cell_type": "code",
   "execution_count": 99,
   "id": "771708a1",
   "metadata": {},
   "outputs": [
    {
     "data": {
      "text/plain": [
       "20"
      ]
     },
     "execution_count": 99,
     "metadata": {},
     "output_type": "execute_result"
    }
   ],
   "source": [
    "len(comp_tags)"
   ]
  },
  {
   "cell_type": "code",
   "execution_count": 100,
   "id": "5366fe79",
   "metadata": {},
   "outputs": [
    {
     "name": "stdout",
     "output_type": "stream",
     "text": [
      "['Collabera', 'Artech infosystem', 'KPMG India', 'Meesho', 'Flipkart', 'cliqhr.com', 'Schneider Electric', 'Deutsche Bank', 'NUANCE INDIA PVT LTD', 'MOURI Tech', 'Uplers', 'Clarivate', 'Accolite Software India Pvt Ltd', 'BYJUS', 'Jio', 'Artech Infosystems Pvt. Ltd.', 'Walmart', 'LOGICAL HIRING', 'Gojek', 'Virtusa']\n"
     ]
    }
   ],
   "source": [
    "company=[]\n",
    "\n",
    "for i in comp_tags:\n",
    "    company.append(i.text)\n",
    "print(company)"
   ]
  },
  {
   "cell_type": "code",
   "execution_count": 101,
   "id": "35f3a9b9",
   "metadata": {},
   "outputs": [],
   "source": [
    "company_name=company[0:10]"
   ]
  },
  {
   "cell_type": "code",
   "execution_count": 103,
   "id": "ac48e85a",
   "metadata": {},
   "outputs": [],
   "source": [
    "loc_tags=driver.find_elements(By.XPATH,'//li[@class=\"fleft grey-text br2 placeHolderLi location\"]')"
   ]
  },
  {
   "cell_type": "code",
   "execution_count": 104,
   "id": "03ea1a01",
   "metadata": {},
   "outputs": [
    {
     "data": {
      "text/plain": [
       "20"
      ]
     },
     "execution_count": 104,
     "metadata": {},
     "output_type": "execute_result"
    }
   ],
   "source": [
    "len(loc_tags)"
   ]
  },
  {
   "cell_type": "code",
   "execution_count": 105,
   "id": "30f780f6",
   "metadata": {},
   "outputs": [
    {
     "name": "stdout",
     "output_type": "stream",
     "text": [
      "['Bangalore/Bengaluru, karnataka\\n(WFH during Covid)', 'Mumbai, Hyderabad/Secunderabad, Pune, Chennai, Ahmedabad, Bangalore/Bengaluru', 'Noida, Kolkata, Mumbai, Gurgaon/Gurugram, Bangalore/Bengaluru, Delhi / NCR, Mumbai (All Areas)', 'Bangalore/Bengaluru', 'Bangalore/Bengaluru', 'Mumbai, Hyderabad/Secunderabad, Pune, Chennai, Bangalore/Bengaluru', 'Bangalore/Bengaluru', 'Bangalore/Bengaluru', 'Bangalore/Bengaluru', 'Hyderabad/Secunderabad, Bangalore/Bengaluru', 'Bangalore Rural, Bangalore/Bengaluru(Varthur Road)', 'Bangalore/Bengaluru', 'Bangalore/Bengaluru', 'Bangalore/Bengaluru', 'Bangalore/Bengaluru', 'Bangalore/Bengaluru\\n(WFH during Covid)', 'Bangalore/Bengaluru', 'Hyderabad/Secunderabad, Chennai, Bangalore/Bengaluru', 'Bangalore/Bengaluru', 'Hyderabad/Secunderabad, Pune, Chennai, Bangalore/Bengaluru']\n"
     ]
    }
   ],
   "source": [
    "location=[]\n",
    "\n",
    "for i in loc_tags:\n",
    "    location.append(i.text)\n",
    "print(location)"
   ]
  },
  {
   "cell_type": "code",
   "execution_count": 107,
   "id": "a2536690",
   "metadata": {},
   "outputs": [],
   "source": [
    "Location=location[0:10]"
   ]
  },
  {
   "cell_type": "code",
   "execution_count": 108,
   "id": "73297342",
   "metadata": {},
   "outputs": [],
   "source": [
    "import pandas as pd"
   ]
  },
  {
   "cell_type": "code",
   "execution_count": 110,
   "id": "4a657364",
   "metadata": {},
   "outputs": [
    {
     "data": {
      "text/html": [
       "<div>\n",
       "<style scoped>\n",
       "    .dataframe tbody tr th:only-of-type {\n",
       "        vertical-align: middle;\n",
       "    }\n",
       "\n",
       "    .dataframe tbody tr th {\n",
       "        vertical-align: top;\n",
       "    }\n",
       "\n",
       "    .dataframe thead th {\n",
       "        text-align: right;\n",
       "    }\n",
       "</style>\n",
       "<table border=\"1\" class=\"dataframe\">\n",
       "  <thead>\n",
       "    <tr style=\"text-align: right;\">\n",
       "      <th></th>\n",
       "      <th>JobTitle</th>\n",
       "      <th>COMPANY</th>\n",
       "      <th>LOCATION</th>\n",
       "    </tr>\n",
       "  </thead>\n",
       "  <tbody>\n",
       "    <tr>\n",
       "      <th>0</th>\n",
       "      <td>Sr.Business Data Analyst</td>\n",
       "      <td>Collabera</td>\n",
       "      <td>Bangalore/Bengaluru, karnataka\\n(WFH during Co...</td>\n",
       "    </tr>\n",
       "    <tr>\n",
       "      <th>1</th>\n",
       "      <td>Data Analyst - CRM Platform</td>\n",
       "      <td>Artech infosystem</td>\n",
       "      <td>Mumbai, Hyderabad/Secunderabad, Pune, Chennai,...</td>\n",
       "    </tr>\n",
       "    <tr>\n",
       "      <th>2</th>\n",
       "      <td>Hiring Data Analyst - Forensics, KPMG India</td>\n",
       "      <td>KPMG India</td>\n",
       "      <td>Noida, Kolkata, Mumbai, Gurgaon/Gurugram, Bang...</td>\n",
       "    </tr>\n",
       "    <tr>\n",
       "      <th>3</th>\n",
       "      <td>Data Analyst/Senior Data Analyst</td>\n",
       "      <td>Meesho</td>\n",
       "      <td>Bangalore/Bengaluru</td>\n",
       "    </tr>\n",
       "    <tr>\n",
       "      <th>4</th>\n",
       "      <td>Senior Data Analyst II</td>\n",
       "      <td>Flipkart</td>\n",
       "      <td>Bangalore/Bengaluru</td>\n",
       "    </tr>\n",
       "    <tr>\n",
       "      <th>5</th>\n",
       "      <td>Business Analyst / Data Analyst</td>\n",
       "      <td>cliqhr.com</td>\n",
       "      <td>Mumbai, Hyderabad/Secunderabad, Pune, Chennai,...</td>\n",
       "    </tr>\n",
       "    <tr>\n",
       "      <th>6</th>\n",
       "      <td>Software Technical Expert - Data Analyst</td>\n",
       "      <td>Schneider Electric</td>\n",
       "      <td>Bangalore/Bengaluru</td>\n",
       "    </tr>\n",
       "    <tr>\n",
       "      <th>7</th>\n",
       "      <td>Reference Data Analyst</td>\n",
       "      <td>Deutsche Bank</td>\n",
       "      <td>Bangalore/Bengaluru</td>\n",
       "    </tr>\n",
       "    <tr>\n",
       "      <th>8</th>\n",
       "      <td>Sales Data Analyst</td>\n",
       "      <td>NUANCE INDIA PVT LTD</td>\n",
       "      <td>Bangalore/Bengaluru</td>\n",
       "    </tr>\n",
       "    <tr>\n",
       "      <th>9</th>\n",
       "      <td>Data Analyst</td>\n",
       "      <td>MOURI Tech</td>\n",
       "      <td>Hyderabad/Secunderabad, Bangalore/Bengaluru</td>\n",
       "    </tr>\n",
       "  </tbody>\n",
       "</table>\n",
       "</div>"
      ],
      "text/plain": [
       "                                      JobTitle               COMPANY  \\\n",
       "0                     Sr.Business Data Analyst             Collabera   \n",
       "1                  Data Analyst - CRM Platform     Artech infosystem   \n",
       "2  Hiring Data Analyst - Forensics, KPMG India            KPMG India   \n",
       "3             Data Analyst/Senior Data Analyst                Meesho   \n",
       "4                       Senior Data Analyst II              Flipkart   \n",
       "5              Business Analyst / Data Analyst            cliqhr.com   \n",
       "6     Software Technical Expert - Data Analyst    Schneider Electric   \n",
       "7                       Reference Data Analyst         Deutsche Bank   \n",
       "8                           Sales Data Analyst  NUANCE INDIA PVT LTD   \n",
       "9                                 Data Analyst            MOURI Tech   \n",
       "\n",
       "                                            LOCATION  \n",
       "0  Bangalore/Bengaluru, karnataka\\n(WFH during Co...  \n",
       "1  Mumbai, Hyderabad/Secunderabad, Pune, Chennai,...  \n",
       "2  Noida, Kolkata, Mumbai, Gurgaon/Gurugram, Bang...  \n",
       "3                                Bangalore/Bengaluru  \n",
       "4                                Bangalore/Bengaluru  \n",
       "5  Mumbai, Hyderabad/Secunderabad, Pune, Chennai,...  \n",
       "6                                Bangalore/Bengaluru  \n",
       "7                                Bangalore/Bengaluru  \n",
       "8                                Bangalore/Bengaluru  \n",
       "9        Hyderabad/Secunderabad, Bangalore/Bengaluru  "
      ]
     },
     "execution_count": 110,
     "metadata": {},
     "output_type": "execute_result"
    }
   ],
   "source": [
    "pd.DataFrame({'JobTitle':jobtitle,'COMPANY':company_name,'LOCATION':Location})"
   ]
  },
  {
   "cell_type": "code",
   "execution_count": 111,
   "id": "07df7cf6",
   "metadata": {},
   "outputs": [],
   "source": [
    "##2.We have to scrape DATA SCIENTIST job role"
   ]
  },
  {
   "cell_type": "code",
   "execution_count": 112,
   "id": "8bee4383",
   "metadata": {},
   "outputs": [],
   "source": [
    "url='https://www.naukri.com/'\n",
    "driver.get(url)"
   ]
  },
  {
   "cell_type": "code",
   "execution_count": 113,
   "id": "0bc7eb93",
   "metadata": {},
   "outputs": [],
   "source": [
    "search_job=driver.find_elements(By.CLASS_NAME,\"suggestor-input \")"
   ]
  },
  {
   "cell_type": "code",
   "execution_count": 114,
   "id": "43bd8f09",
   "metadata": {},
   "outputs": [],
   "source": [
    "search_job[0].send_keys('Data Scientist')"
   ]
  },
  {
   "cell_type": "code",
   "execution_count": 115,
   "id": "7e542383",
   "metadata": {},
   "outputs": [
    {
     "name": "stdout",
     "output_type": "stream",
     "text": [
      "[<selenium.webdriver.remote.webelement.WebElement (session=\"ee9c5e734093bc70e4b7ab693503f374\", element=\"f2d8f82b-6d0d-460a-8d11-ba9ab31af497\")>, <selenium.webdriver.remote.webelement.WebElement (session=\"ee9c5e734093bc70e4b7ab693503f374\", element=\"f9576118-4bf0-49f8-940e-e989cd4ef9fd\")>]\n"
     ]
    }
   ],
   "source": [
    "print(search_job)"
   ]
  },
  {
   "cell_type": "code",
   "execution_count": 116,
   "id": "99b70c4a",
   "metadata": {},
   "outputs": [],
   "source": [
    "search_loc=driver.find_element(By.XPATH,'/html/body/div[1]/div[2]/div[3]/div/div/div[5]/div/div/div/input')"
   ]
  },
  {
   "cell_type": "code",
   "execution_count": 117,
   "id": "ee74ea7f",
   "metadata": {},
   "outputs": [],
   "source": [
    "search_loc.send_keys('Bengalore')"
   ]
  },
  {
   "cell_type": "code",
   "execution_count": 118,
   "id": "86542ff8",
   "metadata": {},
   "outputs": [],
   "source": [
    "search=driver.find_element(By.CLASS_NAME,'qsbSubmit').click()"
   ]
  },
  {
   "cell_type": "code",
   "execution_count": 119,
   "id": "42527a33",
   "metadata": {},
   "outputs": [],
   "source": [
    "job_title=driver.find_elements(By.XPATH,'//a[@class=\"title fw500 ellipsis\"]')"
   ]
  },
  {
   "cell_type": "code",
   "execution_count": 123,
   "id": "afd94e97",
   "metadata": {},
   "outputs": [
    {
     "name": "stdout",
     "output_type": "stream",
     "text": [
      "['Urgent Job Opening For AI Practitioner - Data Science at Wipro Holmes', 'Dataiku Consultant', 'Opportunity For Data Scientist - Female Candidates ONLY', 'Data Scientist', 'AWS Sagemaker', 'Data Scientist', 'Research and Development -AI/ML -(PhD )', 'Senior Data Science Engineer', 'Data Science - Engineering Manager', 'Data Scientist', 'Data Scientist- Assistant Manager/Manager', 'Data Scientist, Personalization', 'Data Scientist: Artificial Intelligence', 'Data Scientist - IN3', 'Senior Data Scientist, Personalization', 'Data Scientist', 'DigitalBCG GAMMA Data Scientist', 'Artificial Intelligence, Virtual Reality Developer - L1', 'Data Engineer - ML Ops', 'Data Scientist']\n"
     ]
    }
   ],
   "source": [
    "job=[]\n",
    "\n",
    "for i in job_title:\n",
    "    job.append(i.text)\n",
    "print(job)"
   ]
  },
  {
   "cell_type": "code",
   "execution_count": 124,
   "id": "74387bb6",
   "metadata": {},
   "outputs": [],
   "source": [
    "JOBS=job[0:10]"
   ]
  },
  {
   "cell_type": "code",
   "execution_count": 125,
   "id": "7ec6bf82",
   "metadata": {},
   "outputs": [],
   "source": [
    "comp=driver.find_elements(By.XPATH,'//a[@class=\"subTitle ellipsis fleft\"]')"
   ]
  },
  {
   "cell_type": "code",
   "execution_count": 126,
   "id": "e441d570",
   "metadata": {},
   "outputs": [
    {
     "name": "stdout",
     "output_type": "stream",
     "text": [
      "['Wipro', 'Wipro', 'PayU', 'IBM', 'Wipro', 'Wipro', 'EXL', 'Fractal Analytics', 'Paytm', 'UPL', 'Genpact', 'Walmart', 'IBM', 'Walmart', 'Walmart', 'Schneider Electric', 'Boston Consulting Group', 'ATG Business Solutions', 'VISA', 'Applied Materials']\n"
     ]
    }
   ],
   "source": [
    "c=[]\n",
    "\n",
    "for i in comp:\n",
    "    c.append(i.text)\n",
    "print(c)"
   ]
  },
  {
   "cell_type": "code",
   "execution_count": 127,
   "id": "1a088ac8",
   "metadata": {},
   "outputs": [],
   "source": [
    "Company=c[0:10]"
   ]
  },
  {
   "cell_type": "code",
   "execution_count": 138,
   "id": "5c6a3055",
   "metadata": {},
   "outputs": [],
   "source": [
    "loc_tag=driver.find_elements(By.XPATH,'//li[@class=\"fleft grey-text br2 placeHolderLi location\"]')"
   ]
  },
  {
   "cell_type": "code",
   "execution_count": 140,
   "id": "de663b69",
   "metadata": {},
   "outputs": [
    {
     "name": "stdout",
     "output_type": "stream",
     "text": [
      "['Kochi/Cochin, New Delhi, Bangalore/Bengaluru, Coimbatore, Chennai, Pune, Mumbai, Hyderabad', 'Pune, Chennai, Bangalore/Bengaluru', 'Gurgaon/Gurugram, Bangalore/Bengaluru, Mumbai (All Areas)', 'Bangalore/Bengaluru', 'Bangalore/Bengaluru\\n(WFH during Covid)', 'Bangalore/Bengaluru\\n(WFH during Covid)', 'Noida, Hyderabad/Secunderabad, Pune, Gurgaon/Gurugram, Chennai, Bangalore/Bengaluru, Delhi / NCR', 'Gurgaon/Gurugram, Bangalore/Bengaluru, Mumbai (All Areas)', 'Noida, Mumbai, Bangalore/Bengaluru', 'Bangalore/Bengaluru, Mumbai (All Areas)', 'Bangalore/Bengaluru', 'Bangalore/Bengaluru', 'Bangalore/Bengaluru', 'Bangalore/Bengaluru', 'Bangalore/Bengaluru', 'Bangalore/Bengaluru', 'New Delhi, Bangalore/Bengaluru', 'Mumbai, Hyderabad/Secunderabad, Bangalore/Bengaluru', 'Bangalore/Bengaluru', 'Bangalore/Bengaluru']\n"
     ]
    }
   ],
   "source": [
    "l=[]\n",
    "for i in loc_tag:\n",
    "    l.append(i.text)\n",
    "print(l)"
   ]
  },
  {
   "cell_type": "code",
   "execution_count": 141,
   "id": "6b70b669",
   "metadata": {},
   "outputs": [],
   "source": [
    "Location=l[0:10]"
   ]
  },
  {
   "cell_type": "code",
   "execution_count": 142,
   "id": "acef0859",
   "metadata": {},
   "outputs": [
    {
     "data": {
      "text/html": [
       "<div>\n",
       "<style scoped>\n",
       "    .dataframe tbody tr th:only-of-type {\n",
       "        vertical-align: middle;\n",
       "    }\n",
       "\n",
       "    .dataframe tbody tr th {\n",
       "        vertical-align: top;\n",
       "    }\n",
       "\n",
       "    .dataframe thead th {\n",
       "        text-align: right;\n",
       "    }\n",
       "</style>\n",
       "<table border=\"1\" class=\"dataframe\">\n",
       "  <thead>\n",
       "    <tr style=\"text-align: right;\">\n",
       "      <th></th>\n",
       "      <th>Jobs</th>\n",
       "      <th>Company</th>\n",
       "      <th>Location</th>\n",
       "    </tr>\n",
       "  </thead>\n",
       "  <tbody>\n",
       "    <tr>\n",
       "      <th>0</th>\n",
       "      <td>Urgent Job Opening For AI Practitioner - Data ...</td>\n",
       "      <td>Wipro</td>\n",
       "      <td>Kochi/Cochin, New Delhi, Bangalore/Bengaluru, ...</td>\n",
       "    </tr>\n",
       "    <tr>\n",
       "      <th>1</th>\n",
       "      <td>Dataiku Consultant</td>\n",
       "      <td>Wipro</td>\n",
       "      <td>Pune, Chennai, Bangalore/Bengaluru</td>\n",
       "    </tr>\n",
       "    <tr>\n",
       "      <th>2</th>\n",
       "      <td>Opportunity For Data Scientist - Female Candid...</td>\n",
       "      <td>PayU</td>\n",
       "      <td>Gurgaon/Gurugram, Bangalore/Bengaluru, Mumbai ...</td>\n",
       "    </tr>\n",
       "    <tr>\n",
       "      <th>3</th>\n",
       "      <td>Data Scientist</td>\n",
       "      <td>IBM</td>\n",
       "      <td>Bangalore/Bengaluru</td>\n",
       "    </tr>\n",
       "    <tr>\n",
       "      <th>4</th>\n",
       "      <td>AWS Sagemaker</td>\n",
       "      <td>Wipro</td>\n",
       "      <td>Bangalore/Bengaluru\\n(WFH during Covid)</td>\n",
       "    </tr>\n",
       "    <tr>\n",
       "      <th>5</th>\n",
       "      <td>Data Scientist</td>\n",
       "      <td>Wipro</td>\n",
       "      <td>Bangalore/Bengaluru\\n(WFH during Covid)</td>\n",
       "    </tr>\n",
       "    <tr>\n",
       "      <th>6</th>\n",
       "      <td>Research and Development -AI/ML -(PhD )</td>\n",
       "      <td>EXL</td>\n",
       "      <td>Noida, Hyderabad/Secunderabad, Pune, Gurgaon/G...</td>\n",
       "    </tr>\n",
       "    <tr>\n",
       "      <th>7</th>\n",
       "      <td>Senior Data Science Engineer</td>\n",
       "      <td>Fractal Analytics</td>\n",
       "      <td>Gurgaon/Gurugram, Bangalore/Bengaluru, Mumbai ...</td>\n",
       "    </tr>\n",
       "    <tr>\n",
       "      <th>8</th>\n",
       "      <td>Data Science - Engineering Manager</td>\n",
       "      <td>Paytm</td>\n",
       "      <td>Noida, Mumbai, Bangalore/Bengaluru</td>\n",
       "    </tr>\n",
       "    <tr>\n",
       "      <th>9</th>\n",
       "      <td>Data Scientist</td>\n",
       "      <td>UPL</td>\n",
       "      <td>Bangalore/Bengaluru, Mumbai (All Areas)</td>\n",
       "    </tr>\n",
       "  </tbody>\n",
       "</table>\n",
       "</div>"
      ],
      "text/plain": [
       "                                                Jobs            Company  \\\n",
       "0  Urgent Job Opening For AI Practitioner - Data ...              Wipro   \n",
       "1                                 Dataiku Consultant              Wipro   \n",
       "2  Opportunity For Data Scientist - Female Candid...               PayU   \n",
       "3                                     Data Scientist                IBM   \n",
       "4                                      AWS Sagemaker              Wipro   \n",
       "5                                     Data Scientist              Wipro   \n",
       "6            Research and Development -AI/ML -(PhD )                EXL   \n",
       "7                       Senior Data Science Engineer  Fractal Analytics   \n",
       "8                 Data Science - Engineering Manager              Paytm   \n",
       "9                                     Data Scientist                UPL   \n",
       "\n",
       "                                            Location  \n",
       "0  Kochi/Cochin, New Delhi, Bangalore/Bengaluru, ...  \n",
       "1                 Pune, Chennai, Bangalore/Bengaluru  \n",
       "2  Gurgaon/Gurugram, Bangalore/Bengaluru, Mumbai ...  \n",
       "3                                Bangalore/Bengaluru  \n",
       "4            Bangalore/Bengaluru\\n(WFH during Covid)  \n",
       "5            Bangalore/Bengaluru\\n(WFH during Covid)  \n",
       "6  Noida, Hyderabad/Secunderabad, Pune, Gurgaon/G...  \n",
       "7  Gurgaon/Gurugram, Bangalore/Bengaluru, Mumbai ...  \n",
       "8                 Noida, Mumbai, Bangalore/Bengaluru  \n",
       "9            Bangalore/Bengaluru, Mumbai (All Areas)  "
      ]
     },
     "execution_count": 142,
     "metadata": {},
     "output_type": "execute_result"
    }
   ],
   "source": [
    "pd.DataFrame({'Jobs':JOBS,'Company':Company,'Location':Location})"
   ]
  },
  {
   "cell_type": "code",
   "execution_count": 1,
   "id": "4ede3185",
   "metadata": {},
   "outputs": [],
   "source": [
    "import selenium\n",
    "from selenium import webdriver\n",
    "from selenium.webdriver.common.by import By\n",
    "from selenium.webdriver.common.keys import Keys\n",
    "\n",
    "import pandas as pd"
   ]
  },
  {
   "cell_type": "code",
   "execution_count": 6,
   "id": "54c63a16",
   "metadata": {},
   "outputs": [],
   "source": [
    "##3. Scrape datascientist job in DELHI/NCR"
   ]
  },
  {
   "cell_type": "code",
   "execution_count": 7,
   "id": "b543b367",
   "metadata": {},
   "outputs": [
    {
     "name": "stderr",
     "output_type": "stream",
     "text": [
      "C:\\Users\\User\\AppData\\Local\\Temp\\ipykernel_10712\\3058491702.py:1: DeprecationWarning: executable_path has been deprecated, please pass in a Service object\n",
      "  driver=webdriver.Chrome('chromedriver.exe')\n"
     ]
    }
   ],
   "source": [
    "driver=webdriver.Chrome('chromedriver.exe')\n",
    "url='https://www.naukri.com/'\n",
    "driver.get(url)"
   ]
  },
  {
   "cell_type": "code",
   "execution_count": 8,
   "id": "47d0057d",
   "metadata": {},
   "outputs": [],
   "source": [
    "search_job=driver.find_element(By.CLASS_NAME,'suggestor-input')"
   ]
  },
  {
   "cell_type": "code",
   "execution_count": 9,
   "id": "d9b846e9",
   "metadata": {},
   "outputs": [],
   "source": [
    "search_job.send_keys('Data-Scientist')"
   ]
  },
  {
   "cell_type": "code",
   "execution_count": 12,
   "id": "2d368408",
   "metadata": {},
   "outputs": [],
   "source": [
    "search_loc=driver.find_element(By.XPATH,'/html/body/div[1]/div[2]/div[3]/div/div/div[5]/div/div/div/input').send_keys('Delhi/NCR')"
   ]
  },
  {
   "cell_type": "code",
   "execution_count": 15,
   "id": "474a02fd",
   "metadata": {},
   "outputs": [],
   "source": [
    "search=driver.find_element(By.CLASS_NAME,'qsbSubmit')"
   ]
  },
  {
   "cell_type": "code",
   "execution_count": 16,
   "id": "8c0c606b",
   "metadata": {},
   "outputs": [],
   "source": [
    "search.click()"
   ]
  },
  {
   "cell_type": "code",
   "execution_count": 30,
   "id": "2d80217f",
   "metadata": {},
   "outputs": [],
   "source": [
    "search_salary=driver.find_element(By.XPATH,'/html/body/div[1]/div[3]/div[2]/section[1]/div[2]/div[5]/div[2]/div[2]/label/i')"
   ]
  },
  {
   "cell_type": "code",
   "execution_count": 31,
   "id": "256a5324",
   "metadata": {},
   "outputs": [],
   "source": [
    "search_salary.click()"
   ]
  },
  {
   "cell_type": "code",
   "execution_count": 32,
   "id": "06720fd3",
   "metadata": {},
   "outputs": [],
   "source": [
    "job_tags=driver.find_elements(By.XPATH,'//a[@class=\"title fw500 ellipsis\"]')"
   ]
  },
  {
   "cell_type": "code",
   "execution_count": 37,
   "id": "f8e73e82",
   "metadata": {},
   "outputs": [
    {
     "name": "stdout",
     "output_type": "stream",
     "text": [
      "['DigitalBCG GAMMA Data Scientist', 'Data Scientist - IN3', 'Senior Data Scientist', 'Artificial Intelligence, Virtual Reality Developer - L1', 'Data Scientist', 'Senior Associate - Data Science', 'Data Scientist - Noida/Bangalore', 'Data Scientist', 'Data Scientist', 'DATA Scientist with Fraud Analytics Experience']\n"
     ]
    }
   ],
   "source": [
    "job_title=[]\n",
    "for i in job_tags:\n",
    "    job_title.append(i.text)\n",
    "\n",
    "Jobs=job_title[0:10]\n",
    "print(Jobs)"
   ]
  },
  {
   "cell_type": "code",
   "execution_count": 42,
   "id": "0f90131f",
   "metadata": {},
   "outputs": [],
   "source": [
    "loc_tags=driver.find_elements(By.XPATH,'//li[@class=\"fleft grey-text br2 placeHolderLi location\"]')"
   ]
  },
  {
   "cell_type": "code",
   "execution_count": 43,
   "id": "eeb7acbe",
   "metadata": {},
   "outputs": [
    {
     "name": "stdout",
     "output_type": "stream",
     "text": [
      "['New Delhi, Bangalore/Bengaluru', 'Bangalore/Bengaluru', 'Mumbai, Mumbai (All Areas)', 'Mumbai, Hyderabad/Secunderabad, Bangalore/Bengaluru', 'Bangalore/Bengaluru', 'Mumbai, Hyderabad/Secunderabad, Gurgaon/Gurugram, Bangalore/Bengaluru', 'Noida, Bangalore/Bengaluru', 'Bangalore/Bengaluru', 'Bangalore/Bengaluru', 'Bangalore/Bengaluru']\n"
     ]
    }
   ],
   "source": [
    "location=[]\n",
    "for i in loc_tags:\n",
    "    location.append(i.text)\n",
    "\n",
    "Location=location[0:10]\n",
    "print(Location)\n"
   ]
  },
  {
   "cell_type": "code",
   "execution_count": 44,
   "id": "43812873",
   "metadata": {},
   "outputs": [],
   "source": [
    "exp_tags=driver.find_elements(By.XPATH,'//li[@class=\"fleft grey-text br2 placeHolderLi experience\"]')"
   ]
  },
  {
   "cell_type": "code",
   "execution_count": 45,
   "id": "a2b5b993",
   "metadata": {},
   "outputs": [
    {
     "name": "stdout",
     "output_type": "stream",
     "text": [
      "['2-5 Yrs', '2-5 Yrs', '4-6 Yrs', '1-5 Yrs', '2-7 Yrs', '4-7 Yrs', '5-10 Yrs', '2-4 Yrs', '4-7 Yrs', '2-4 Yrs']\n"
     ]
    }
   ],
   "source": [
    "experience=[]\n",
    "for i in exp_tags:\n",
    "    experience.append(i.text)\n",
    "\n",
    "Exp=experience[0:10]\n",
    "print(Exp)\n"
   ]
  },
  {
   "cell_type": "code",
   "execution_count": 56,
   "id": "2d617223",
   "metadata": {},
   "outputs": [
    {
     "data": {
      "text/html": [
       "<div>\n",
       "<style scoped>\n",
       "    .dataframe tbody tr th:only-of-type {\n",
       "        vertical-align: middle;\n",
       "    }\n",
       "\n",
       "    .dataframe tbody tr th {\n",
       "        vertical-align: top;\n",
       "    }\n",
       "\n",
       "    .dataframe thead th {\n",
       "        text-align: right;\n",
       "    }\n",
       "</style>\n",
       "<table border=\"1\" class=\"dataframe\">\n",
       "  <thead>\n",
       "    <tr style=\"text-align: right;\">\n",
       "      <th></th>\n",
       "      <th>Jobs</th>\n",
       "      <th>Location</th>\n",
       "      <th>Exp</th>\n",
       "    </tr>\n",
       "  </thead>\n",
       "  <tbody>\n",
       "    <tr>\n",
       "      <th>0</th>\n",
       "      <td>DigitalBCG GAMMA Data Scientist</td>\n",
       "      <td>New Delhi, Bangalore/Bengaluru</td>\n",
       "      <td>2-5 Yrs</td>\n",
       "    </tr>\n",
       "    <tr>\n",
       "      <th>1</th>\n",
       "      <td>Data Scientist - IN3</td>\n",
       "      <td>Bangalore/Bengaluru</td>\n",
       "      <td>2-5 Yrs</td>\n",
       "    </tr>\n",
       "    <tr>\n",
       "      <th>2</th>\n",
       "      <td>Senior Data Scientist</td>\n",
       "      <td>Mumbai, Mumbai (All Areas)</td>\n",
       "      <td>4-6 Yrs</td>\n",
       "    </tr>\n",
       "    <tr>\n",
       "      <th>3</th>\n",
       "      <td>Artificial Intelligence, Virtual Reality Devel...</td>\n",
       "      <td>Mumbai, Hyderabad/Secunderabad, Bangalore/Beng...</td>\n",
       "      <td>1-5 Yrs</td>\n",
       "    </tr>\n",
       "    <tr>\n",
       "      <th>4</th>\n",
       "      <td>Data Scientist</td>\n",
       "      <td>Bangalore/Bengaluru</td>\n",
       "      <td>2-7 Yrs</td>\n",
       "    </tr>\n",
       "    <tr>\n",
       "      <th>5</th>\n",
       "      <td>Senior Associate - Data Science</td>\n",
       "      <td>Mumbai, Hyderabad/Secunderabad, Gurgaon/Gurugr...</td>\n",
       "      <td>4-7 Yrs</td>\n",
       "    </tr>\n",
       "    <tr>\n",
       "      <th>6</th>\n",
       "      <td>Data Scientist - Noida/Bangalore</td>\n",
       "      <td>Noida, Bangalore/Bengaluru</td>\n",
       "      <td>5-10 Yrs</td>\n",
       "    </tr>\n",
       "    <tr>\n",
       "      <th>7</th>\n",
       "      <td>Data Scientist</td>\n",
       "      <td>Bangalore/Bengaluru</td>\n",
       "      <td>2-4 Yrs</td>\n",
       "    </tr>\n",
       "    <tr>\n",
       "      <th>8</th>\n",
       "      <td>Data Scientist</td>\n",
       "      <td>Bangalore/Bengaluru</td>\n",
       "      <td>4-7 Yrs</td>\n",
       "    </tr>\n",
       "    <tr>\n",
       "      <th>9</th>\n",
       "      <td>DATA Scientist with Fraud Analytics Experience</td>\n",
       "      <td>Bangalore/Bengaluru</td>\n",
       "      <td>2-4 Yrs</td>\n",
       "    </tr>\n",
       "  </tbody>\n",
       "</table>\n",
       "</div>"
      ],
      "text/plain": [
       "                                                Jobs  \\\n",
       "0                    DigitalBCG GAMMA Data Scientist   \n",
       "1                               Data Scientist - IN3   \n",
       "2                              Senior Data Scientist   \n",
       "3  Artificial Intelligence, Virtual Reality Devel...   \n",
       "4                                     Data Scientist   \n",
       "5                    Senior Associate - Data Science   \n",
       "6                   Data Scientist - Noida/Bangalore   \n",
       "7                                     Data Scientist   \n",
       "8                                     Data Scientist   \n",
       "9     DATA Scientist with Fraud Analytics Experience   \n",
       "\n",
       "                                            Location       Exp  \n",
       "0                     New Delhi, Bangalore/Bengaluru   2-5 Yrs  \n",
       "1                                Bangalore/Bengaluru   2-5 Yrs  \n",
       "2                         Mumbai, Mumbai (All Areas)   4-6 Yrs  \n",
       "3  Mumbai, Hyderabad/Secunderabad, Bangalore/Beng...   1-5 Yrs  \n",
       "4                                Bangalore/Bengaluru   2-7 Yrs  \n",
       "5  Mumbai, Hyderabad/Secunderabad, Gurgaon/Gurugr...   4-7 Yrs  \n",
       "6                         Noida, Bangalore/Bengaluru  5-10 Yrs  \n",
       "7                                Bangalore/Bengaluru   2-4 Yrs  \n",
       "8                                Bangalore/Bengaluru   4-7 Yrs  \n",
       "9                                Bangalore/Bengaluru   2-4 Yrs  "
      ]
     },
     "execution_count": 56,
     "metadata": {},
     "output_type": "execute_result"
    }
   ],
   "source": [
    "pd.DataFrame({'Jobs':Jobs,'Location':Location,'Exp':Exp})"
   ]
  },
  {
   "cell_type": "code",
   "execution_count": 47,
   "id": "78b6ce5b",
   "metadata": {},
   "outputs": [],
   "source": [
    "## 4. Scrape data of first 100 sunglasses listings on flipkart.com"
   ]
  },
  {
   "cell_type": "code",
   "execution_count": 15,
   "id": "c303367a",
   "metadata": {},
   "outputs": [
    {
     "name": "stderr",
     "output_type": "stream",
     "text": [
      "C:\\Users\\User\\AppData\\Local\\Temp\\ipykernel_18960\\657009004.py:1: DeprecationWarning: executable_path has been deprecated, please pass in a Service object\n",
      "  driver=webdriver.Chrome('chromedriver.exe')\n"
     ]
    }
   ],
   "source": [
    "driver=webdriver.Chrome('chromedriver.exe')\n",
    "\n",
    "url='https://www.flipkart.com/'\n",
    "driver.get(url)"
   ]
  },
  {
   "cell_type": "code",
   "execution_count": 16,
   "id": "1910cd67",
   "metadata": {},
   "outputs": [],
   "source": [
    "search=driver.find_element(By.CLASS_NAME,'_3704LK')"
   ]
  },
  {
   "cell_type": "code",
   "execution_count": 17,
   "id": "4e4061b3",
   "metadata": {},
   "outputs": [],
   "source": [
    "search.send_keys('Sunglasses')"
   ]
  },
  {
   "cell_type": "code",
   "execution_count": 18,
   "id": "0e4f59c6",
   "metadata": {},
   "outputs": [],
   "source": [
    "search_btn=driver.find_element(By.CLASS_NAME,'L0Z3Pu')"
   ]
  },
  {
   "cell_type": "code",
   "execution_count": 19,
   "id": "2b71984a",
   "metadata": {},
   "outputs": [],
   "source": [
    "search_btn.click()"
   ]
  },
  {
   "cell_type": "code",
   "execution_count": 49,
   "id": "ab007089",
   "metadata": {},
   "outputs": [],
   "source": [
    "brand_tag=driver.find_elements(By.XPATH,'//div[@class=\"_2WkVRV\"]')"
   ]
  },
  {
   "cell_type": "code",
   "execution_count": 50,
   "id": "6d26dcac",
   "metadata": {},
   "outputs": [
    {
     "data": {
      "text/plain": [
       "40"
      ]
     },
     "execution_count": 50,
     "metadata": {},
     "output_type": "execute_result"
    }
   ],
   "source": [
    "len(brand_tag)"
   ]
  },
  {
   "cell_type": "code",
   "execution_count": 51,
   "id": "e8493685",
   "metadata": {},
   "outputs": [],
   "source": [
    "nxt_btn=driver.find_elements(By.XPATH,'/html/body/div[1]/div/div[3]/div[1]/div[2]/div[12]/div/div/nav/a[11]/span')"
   ]
  },
  {
   "cell_type": "code",
   "execution_count": 44,
   "id": "4a9a25db",
   "metadata": {},
   "outputs": [],
   "source": [
    "nxt_btn[0].click()"
   ]
  },
  {
   "cell_type": "code",
   "execution_count": 52,
   "id": "cabc882d",
   "metadata": {},
   "outputs": [],
   "source": [
    "Brand=[]\n",
    "for j in brand_tag:\n",
    "    Brand.append(j.text)\n",
    "    \n",
    "        \n",
    "    \n",
    "        \n",
    "\n",
    "    "
   ]
  },
  {
   "cell_type": "code",
   "execution_count": 53,
   "id": "13642061",
   "metadata": {},
   "outputs": [
    {
     "data": {
      "text/plain": [
       "40"
      ]
     },
     "execution_count": 53,
     "metadata": {},
     "output_type": "execute_result"
    }
   ],
   "source": [
    "len(Brand)"
   ]
  },
  {
   "cell_type": "code",
   "execution_count": 54,
   "id": "2f1080e5",
   "metadata": {},
   "outputs": [],
   "source": [
    "nxt_btn[0].click()"
   ]
  },
  {
   "cell_type": "code",
   "execution_count": 55,
   "id": "954cf91c",
   "metadata": {},
   "outputs": [],
   "source": [
    "brand_tag2=driver.find_elements(By.XPATH,'//div[@class=\"_2WkVRV\"]')"
   ]
  },
  {
   "cell_type": "code",
   "execution_count": 57,
   "id": "e8c5a05a",
   "metadata": {},
   "outputs": [],
   "source": [
    "for j in brand_tag2:\n",
    "    Brand.append(j.text)\n"
   ]
  },
  {
   "cell_type": "code",
   "execution_count": 58,
   "id": "15710286",
   "metadata": {},
   "outputs": [
    {
     "data": {
      "text/plain": [
       "80"
      ]
     },
     "execution_count": 58,
     "metadata": {},
     "output_type": "execute_result"
    }
   ],
   "source": [
    "len(Brand)"
   ]
  },
  {
   "cell_type": "code",
   "execution_count": 59,
   "id": "94e05ff1",
   "metadata": {},
   "outputs": [],
   "source": [
    "nxt_btn[0].click()"
   ]
  },
  {
   "cell_type": "code",
   "execution_count": 60,
   "id": "cf3c8454",
   "metadata": {},
   "outputs": [],
   "source": [
    "brand_tag3=driver.find_elements(By.XPATH,'//div[@class=\"_2WkVRV\"]')"
   ]
  },
  {
   "cell_type": "code",
   "execution_count": 61,
   "id": "b96ba726",
   "metadata": {},
   "outputs": [],
   "source": [
    "for j in brand_tag3:\n",
    "    Brand.append(j.text)\n"
   ]
  },
  {
   "cell_type": "code",
   "execution_count": 62,
   "id": "381a3979",
   "metadata": {},
   "outputs": [
    {
     "data": {
      "text/plain": [
       "120"
      ]
     },
     "execution_count": 62,
     "metadata": {},
     "output_type": "execute_result"
    }
   ],
   "source": [
    "len(Brand)"
   ]
  },
  {
   "cell_type": "code",
   "execution_count": 63,
   "id": "5a84f0d9",
   "metadata": {},
   "outputs": [],
   "source": [
    "brand=Brand[0:100]"
   ]
  },
  {
   "cell_type": "code",
   "execution_count": 64,
   "id": "554fb331",
   "metadata": {},
   "outputs": [
    {
     "name": "stdout",
     "output_type": "stream",
     "text": [
      "['VINCENT CHASE', 'ROYAL SON', 'DAHAAZIL', 'Fastrack', 'New Specs', 'Elligator', 'SRPM', 'AISLIN', 'PIRASO', 'SUNBEE', 'SHAAH COLLECTIONS', 'AISLIN', 'SUNBEE', 'Fastrack', 'PIRASO', 'ROYAL SON', 'Fastrack', 'PIRASO', 'Lee Topper', 'ROYAL SON', 'PIRASO', 'Lee Topper', 'PIRASO', 'ROYAL SON', 'PIRASO', 'PIRASO', 'Fastrack', 'ROYAL SON', 'New Specs', 'Mi', 'Sewell', 'Silver Kartz', 'ROZZETTA CRAFT', 'ROZZETTA CRAFT', 'SHAAH COLLECTIONS', 'ROYAL SON', 'SRPM', 'SUNBEE', 'LIZA ANGEL', 'ROYAL SON', 'ROZZETTA CRAFT', 'Fastrack', 'Fastrack', 'GANSTA', 'AISLIN', 'Lee Topper', 'LIZA ANGEL', 'ROYAL SON', 'CRYSTAL CART', 'NuVew', 'PIRASO', 'NuVew', 'Fastrack', 'ROZZETTA CRAFT', 'Elligator', 'Singco India', 'SRPM', 'DEIXELS', 'PHENOMENAL', 'ROZZETTA CRAFT', 'ROYAL SON', 'Silver Kartz', 'PIRASO', 'ROYAL SON', 'ROYAL SON', 'ROYAL SON', 'kingsunglasses', 'ROYAL SON', 'kingsunglasses', 'VINCENT CHASE', 'Fastrack', 'GANSTA', 'CRYSTAL CART', 'kingsunglasses', 'Lee Topper', 'ROZZETTA CRAFT', 'Fastrack', 'New Specs', 'Singco India', 'ROYAL SON', 'VINCENT CHASE', 'kingsunglasses', 'kingsunglasses', 'Singco India', 'ROYAL SON', 'Singco India', 'SRPM', 'Silver Kartz', 'VINCENT CHASE', 'Fastrack', 'Fastrack', 'ROZZETTA CRAFT', 'kingsunglasses', 'Rich Club', 'Rich Club', 'ROYAL SON', 'ROZZETTA CRAFT', 'ROYAL SON', 'ROYAL SON', 'Silver Kartz', 'ROYAL SON', 'ROZZETTA CRAFT', 'kingsunglasses', 'DEIXELS', 'kingsunglasses', 'Lee Topper', 'Fastrack', 'ROZZETTA CRAFT', 'New Specs', 'GANSTA', 'Fastrack', 'john jacobs', 'Elligator', 'ROYAL SON', 'SHAAH COLLECTIONS', 'ROYAL SON', 'ROYAL SON', 'New Specs', 'kingsunglasses', 'ROZZETTA CRAFT']\n"
     ]
    }
   ],
   "source": [
    "print(Brand)"
   ]
  },
  {
   "cell_type": "code",
   "execution_count": 77,
   "id": "230d28cf",
   "metadata": {},
   "outputs": [],
   "source": [
    "price=[]\n",
    "price_tag=driver.find_elements(By.XPATH,'//div[@class=\"_30jeq3\"]')\n",
    "for k in price_tag:\n",
    "    price.append(k.text)\n",
    "    \n",
    "    "
   ]
  },
  {
   "cell_type": "code",
   "execution_count": 78,
   "id": "7f2adbc1",
   "metadata": {},
   "outputs": [
    {
     "data": {
      "text/plain": [
       "40"
      ]
     },
     "execution_count": 78,
     "metadata": {},
     "output_type": "execute_result"
    }
   ],
   "source": [
    "len(price)"
   ]
  },
  {
   "cell_type": "code",
   "execution_count": 84,
   "id": "7a9e08d4",
   "metadata": {},
   "outputs": [],
   "source": [
    "nxt_btn=driver.find_elements(By.XPATH,'/html/body/div[1]/div/div[3]/div[1]/div[2]/div[12]/div/div/nav/a[11]/span')"
   ]
  },
  {
   "cell_type": "code",
   "execution_count": 86,
   "id": "be65324d",
   "metadata": {},
   "outputs": [],
   "source": [
    "nxt_btn[0].click()"
   ]
  },
  {
   "cell_type": "code",
   "execution_count": 87,
   "id": "2ca411d3",
   "metadata": {},
   "outputs": [],
   "source": [
    "price_tag2=driver.find_elements(By.XPATH,'//div[@class=\"_30jeq3\"]')\n",
    "for k in price_tag2:\n",
    "    price.append(k.text)\n"
   ]
  },
  {
   "cell_type": "code",
   "execution_count": 88,
   "id": "148405bf",
   "metadata": {},
   "outputs": [
    {
     "data": {
      "text/plain": [
       "80"
      ]
     },
     "execution_count": 88,
     "metadata": {},
     "output_type": "execute_result"
    }
   ],
   "source": [
    "len(price)"
   ]
  },
  {
   "cell_type": "code",
   "execution_count": 89,
   "id": "237520a2",
   "metadata": {},
   "outputs": [],
   "source": [
    "nxt_btn[0].click()"
   ]
  },
  {
   "cell_type": "code",
   "execution_count": 90,
   "id": "7968a612",
   "metadata": {},
   "outputs": [],
   "source": [
    "price_tag3=driver.find_elements(By.XPATH,'//div[@class=\"_30jeq3\"]')\n",
    "for k in price_tag3:\n",
    "    price.append(k.text)\n"
   ]
  },
  {
   "cell_type": "code",
   "execution_count": 91,
   "id": "07bfa375",
   "metadata": {},
   "outputs": [
    {
     "data": {
      "text/plain": [
       "120"
      ]
     },
     "execution_count": 91,
     "metadata": {},
     "output_type": "execute_result"
    }
   ],
   "source": [
    "len(price)"
   ]
  },
  {
   "cell_type": "code",
   "execution_count": 92,
   "id": "ca9e01e0",
   "metadata": {},
   "outputs": [],
   "source": [
    "Price=price[0:100]"
   ]
  },
  {
   "cell_type": "code",
   "execution_count": 94,
   "id": "f6b08056",
   "metadata": {},
   "outputs": [
    {
     "name": "stdout",
     "output_type": "stream",
     "text": [
      "['₹749', '₹3,000', '₹177', '₹639', '₹264', '₹315', '₹283', '₹616', '₹224', '₹224', '₹799', '₹233', '₹259', '₹195', '₹639', '₹649', '₹224', '₹359', '₹229', '₹379', '₹306', '₹299', '₹226', '₹854', '₹246', '₹410', '₹279', '₹379', '₹839', '₹265', '₹349', '₹759', '₹299', '₹719', '₹499', '₹759', '₹219', '₹283', '₹199', '₹649', '₹319', '₹759', '₹219', '₹313', '₹498', '₹759', '₹246', '₹399', '₹719', '₹345', '₹199', '₹664', '₹189', '₹399', '₹379', '₹399', '₹249', '₹224', '₹219', '₹759', '₹341', '₹379', '₹214', '₹314', '₹749', '₹189', '₹379', '₹385', '₹288', '₹223', '₹1,039', '₹232', '₹529', '₹245', '₹899', '₹449', '₹269', '₹749', '₹268', '₹664', '₹217', '₹699', '₹664', '₹598', '₹269', '₹189', '₹599', '₹313', '₹276', '₹379', '₹314', '₹399', '₹324', '₹664', '₹664', '₹399', '₹214', '₹719', '₹299', '₹664']\n"
     ]
    }
   ],
   "source": [
    "print(Price)"
   ]
  },
  {
   "cell_type": "code",
   "execution_count": 95,
   "id": "c5f96732",
   "metadata": {},
   "outputs": [],
   "source": [
    "description=[]\n",
    "des_tag=driver.find_elements(By.XPATH,'//a[@class=\"IRpwTa\"]')\n",
    "for k in des_tag:\n",
    "    description.append(k.text)\n",
    "    "
   ]
  },
  {
   "cell_type": "code",
   "execution_count": 96,
   "id": "28a7795e",
   "metadata": {},
   "outputs": [],
   "source": [
    "nxt_btn=driver.find_elements(By.XPATH,'/html/body/div[1]/div/div[3]/div[1]/div[2]/div[12]/div/div/nav/a[11]/span')"
   ]
  },
  {
   "cell_type": "code",
   "execution_count": 97,
   "id": "0cb2898b",
   "metadata": {},
   "outputs": [],
   "source": [
    "nxt_btn[0].click()"
   ]
  },
  {
   "cell_type": "code",
   "execution_count": 98,
   "id": "ad5a5cff",
   "metadata": {},
   "outputs": [],
   "source": [
    "des_tag2=driver.find_elements(By.XPATH,'//a[@class=\"IRpwTa\"]')\n",
    "for k in des_tag2:\n",
    "    description.append(k.text)"
   ]
  },
  {
   "cell_type": "code",
   "execution_count": 99,
   "id": "b7806309",
   "metadata": {},
   "outputs": [
    {
     "data": {
      "text/plain": [
       "80"
      ]
     },
     "execution_count": 99,
     "metadata": {},
     "output_type": "execute_result"
    }
   ],
   "source": [
    "len(description)"
   ]
  },
  {
   "cell_type": "code",
   "execution_count": 100,
   "id": "042aff9c",
   "metadata": {},
   "outputs": [],
   "source": [
    "nxt_btn[0].click()"
   ]
  },
  {
   "cell_type": "code",
   "execution_count": 101,
   "id": "243e2a93",
   "metadata": {},
   "outputs": [],
   "source": [
    "des_tag3=driver.find_elements(By.XPATH,'//a[@class=\"IRpwTa\"]')\n",
    "for k in des_tag3:\n",
    "    description.append(k.text)"
   ]
  },
  {
   "cell_type": "code",
   "execution_count": 102,
   "id": "6368625f",
   "metadata": {},
   "outputs": [
    {
     "data": {
      "text/plain": [
       "120"
      ]
     },
     "execution_count": 102,
     "metadata": {},
     "output_type": "execute_result"
    }
   ],
   "source": [
    "len(description)"
   ]
  },
  {
   "cell_type": "code",
   "execution_count": 103,
   "id": "d450e3c3",
   "metadata": {},
   "outputs": [],
   "source": [
    "Description=description[0:100]"
   ]
  },
  {
   "cell_type": "code",
   "execution_count": 104,
   "id": "8533ccac",
   "metadata": {},
   "outputs": [
    {
     "name": "stdout",
     "output_type": "stream",
     "text": [
      "['UV Protection Rectangular Sunglasses (52)', 'UV Protection, Night Vision, Riding Glasses Aviator Sun...', 'UV Protection, Night Vision, Riding Glasses Wayfarer, W...', 'UV Protection Rectangular Sunglasses (Free Size)', 'UV Protection Rectangular Sunglasses (Free Size)', 'UV Protection Round Sunglasses (54)', 'UV Protection, Polarized Wayfarer Sunglasses (Free Size...', 'UV Protection, Gradient Cat-eye, Oval Sunglasses (61)', 'UV Protection Aviator Sunglasses (54)', 'UV Protection Wayfarer Sunglasses (50)', 'UV Protection, Polarized, Mirrored Retro Square Sunglas...', 'Polarized, UV Protection Retro Square Sunglasses (61)', 'UV Protection Wayfarer Sunglasses (Free Size)', 'UV Protection Aviator Sunglasses (54)', 'UV Protection Aviator Sunglasses (Free Size)', 'Polarized, UV Protection Wrap-around Sunglasses (62)', 'UV Protection Cat-eye Sunglasses (Free Size)', 'UV Protection Rectangular Sunglasses (52)', 'Riding Glasses Wrap-around Sunglasses (Free Size)', 'Polarized, UV Protection Aviator Sunglasses (58)', 'UV Protection Wayfarer Sunglasses (32)', 'UV Protection Aviator Sunglasses (54)', 'Polarized Aviator Sunglasses (Free Size)', 'UV Protection, Gradient Butterfly Sunglasses (52)', 'Gradient, UV Protection Wayfarer Sunglasses (Free Size)', 'UV Protection Round Sunglasses (Free Size)', 'Mirrored, Night Vision, UV Protection, Riding Glasses S...', 'UV Protection Oval Sunglasses (56)', 'UV Protection, Gradient Retro Square Sunglasses (Free S...', 'Polarized, Riding Glasses Sports, Wrap-around Sunglasse...', 'UV Protection, Polarized, Mirrored Wayfarer Sunglasses ...', 'UV Protection, Gradient Butterfly Sunglasses (62)', 'UV Protection Rectangular Sunglasses (Free Size)', 'UV Protection Wayfarer Sunglasses (Free Size)', 'UV Protection Rectangular Sunglasses (Free Size)', 'Polarized, UV Protection Sports Sunglasses (68)', 'UV Protection, Gradient Butterfly, Retro Square Sunglas...', 'UV Protection Aviator Sunglasses (55)', 'Gradient, UV Protection Wayfarer Sunglasses (Free Size)', 'Gradient Aviator Sunglasses (55)', 'Riding Glasses, Night Vision Spectacle Sunglasses (Fre...', 'Mirrored, Night Vision Oval Sunglasses (Free Size)', 'UV Protection, Gradient Rectangular Sunglasses (Free Si...', 'UV Protection, Polarized Round Sunglasses (54)', 'UV Protection Wayfarer Sunglasses (53)', 'UV Protection Round Sunglasses (53)', 'Mirrored Aviator Sunglasses (Free Size)', 'UV Protection Clubmaster Sunglasses (53)', 'UV Protection Retro Square Sunglasses (Free Size)', 'UV Protection Round Sunglasses (54)', 'Mirrored Aviator Sunglasses (58)', 'UV Protection Aviator Sunglasses (57)', 'UV Protection Rectangular Sunglasses (55)', 'UV Protection Wayfarer Sunglasses (Free Size)', 'UV Protection Aviator Sunglasses (54)', 'UV Protection, Polarized Round Sunglasses (54)', 'by Lenskart Polarized, UV Protection Wayfarer Sunglasse...', 'UV Protection Aviator Sunglasses (58)', 'Polarized, UV Protection, Mirrored, Gradient Rectangula...', 'UV Protection Aviator Sunglasses (Free Size)', 'UV Protection Round Sunglasses (Free Size)', 'Mirrored, UV Protection Wayfarer Sunglasses (Free Size)', 'by Lenskart Polarized, UV Protection Rectangular Sungla...', 'UV Protection Spectacle Sunglasses (Free Size)', 'UV Protection Round Sunglasses (Free Size)', 'Gradient, Toughened Glass Lens, UV Protection Retro Squ...', 'Gradient, Toughened Glass Lens, UV Protection Retro Squ...', 'Polarized, UV Protection Aviator Sunglasses (57)', 'UV Protection Round Sunglasses (Free Size)', 'UV Protection, Riding Glasses, Mirrored Wayfarer Sungla...', 'Night Vision, UV Protection Round Sunglasses (54)', 'Riding Glasses, UV Protection, Others Aviator Sunglasse...', 'Polarized, UV Protection Round Sunglasses (51)', 'UV Protection Shield Sunglasses (Free Size)', 'UV Protection Retro Square Sunglasses (54)', 'UV Protection, Riding Glasses Rectangular Sunglasses (F...', 'UV Protection, Others Round Sunglasses (48)', 'UV Protection Retro Square Sunglasses (Free Size)', 'UV Protection, Gradient Round Sunglasses (Free Size)', 'Polarized, UV Protection Wayfarer, Retro Square Sunglas...', 'UV Protection Retro Square Sunglasses (Free Size)', 'UV Protection Retro Square Sunglasses (54)', 'UV Protection, Others Round Sunglasses (48)', 'UV Protection, Night Vision, Riding Glasses Aviator Sun...', 'UV Protection Wayfarer Sunglasses (55)', 'Mirrored, UV Protection Wayfarer, Rectangular Sunglasse...', 'UV Protection, Gradient Round Sunglasses (Free Size)', 'UV Protection Cat-eye Sunglasses (60)', 'UV Protection, Gradient Wayfarer Sunglasses (55)', 'Mirrored, UV Protection Wayfarer Sunglasses (Free Size)', 'Riding Glasses, Night Vision Wrap-around Sunglasses (Fr...', 'UV Protection Aviator Sunglasses (62)', 'UV Protection Rectangular Sunglasses (55)', 'UV Protection Rectangular Sunglasses (Free Size)', 'UV Protection Wayfarer Sunglasses (Free Size)', 'Night Vision, Riding Glasses Retro Square Sunglasses (5...', 'UV Protection Round Sunglasses (Free Size)', 'UV Protection, Gradient Butterfly Sunglasses (52)', 'UV Protection, Riding Glasses Rectangular, Retro Square...', 'by Lenskart Polarized, UV Protection Rectangular Sungla...']\n"
     ]
    }
   ],
   "source": [
    "print(Description)"
   ]
  },
  {
   "cell_type": "code",
   "execution_count": 42,
   "id": "c14f587f",
   "metadata": {},
   "outputs": [],
   "source": [
    "## 5. Scrape the review of Iphone-11\n",
    "import selenium\n",
    "from selenium import webdriver\n",
    "from selenium.webdriver.common.by import By\n",
    "from selenium.webdriver.common.keys import Keys\n",
    "\n",
    "import pandas as pd"
   ]
  },
  {
   "cell_type": "code",
   "execution_count": 77,
   "id": "cc0c04b8",
   "metadata": {},
   "outputs": [
    {
     "name": "stderr",
     "output_type": "stream",
     "text": [
      "C:\\Users\\User\\AppData\\Local\\Temp\\ipykernel_16188\\657009004.py:1: DeprecationWarning: executable_path has been deprecated, please pass in a Service object\n",
      "  driver=webdriver.Chrome('chromedriver.exe')\n"
     ]
    }
   ],
   "source": [
    "driver=webdriver.Chrome('chromedriver.exe')\n",
    "\n",
    "url='https://www.flipkart.com/'\n",
    "driver.get(url)"
   ]
  },
  {
   "cell_type": "code",
   "execution_count": 78,
   "id": "f6ef05ab",
   "metadata": {},
   "outputs": [],
   "source": [
    "search=driver.find_element(By.CLASS_NAME,'_3704LK')"
   ]
  },
  {
   "cell_type": "code",
   "execution_count": 79,
   "id": "87241e78",
   "metadata": {},
   "outputs": [],
   "source": [
    "search.send_keys('iphone-11')"
   ]
  },
  {
   "cell_type": "code",
   "execution_count": 80,
   "id": "2a8ee71e",
   "metadata": {},
   "outputs": [],
   "source": [
    "search_btn=driver.find_element(By.CLASS_NAME,'L0Z3Pu')"
   ]
  },
  {
   "cell_type": "code",
   "execution_count": 81,
   "id": "6437e6a1",
   "metadata": {},
   "outputs": [],
   "source": [
    "search_btn.click()"
   ]
  },
  {
   "cell_type": "code",
   "execution_count": 83,
   "id": "db4f8451",
   "metadata": {},
   "outputs": [],
   "source": [
    "search_btn=driver.find_element(By.XPATH,'/html/body/div[1]/div/div[3]/div[1]/div[2]/div[5]/div/div/div/a/div[2]/div[1]/div[1]')"
   ]
  },
  {
   "cell_type": "code",
   "execution_count": 84,
   "id": "94f036e6",
   "metadata": {},
   "outputs": [],
   "source": [
    "search_btn.click()"
   ]
  },
  {
   "cell_type": "code",
   "execution_count": 120,
   "id": "49d96e40",
   "metadata": {},
   "outputs": [],
   "source": [
    "url='https://www.flipkart.com/apple-iphone-11-black-64-gb/p/itm4e5041ba101fd?pid=MOBFWQ6BXGJCEYNY&lid=LSTMOBFWQ6BXGJCEYNYZXSHRJ&marketplace=FLIPKART&q=iphone-11&store=tyy%2F4io&srno=s_1_4&otracker=search&otracker1=search&fm=organic&iid=e0ce6a02-146e-4bcc-b279-061c7996c2ce.MOBFWQ6BXGJCEYNY.SEARCH&ppt=hp&ppn=homepage&ssid=gqcad4xgao0000001657646781042&qH=6e21fe77d202f0da'"
   ]
  },
  {
   "cell_type": "code",
   "execution_count": 121,
   "id": "43d3dcd8",
   "metadata": {},
   "outputs": [],
   "source": [
    "driver.get(url)\n"
   ]
  },
  {
   "cell_type": "code",
   "execution_count": 122,
   "id": "a4040ff4",
   "metadata": {},
   "outputs": [],
   "source": [
    "rat_tag=driver.find_elements(By.XPATH,'//div[@class=\"_3LWZlK _1BLPMq\"]')\n",
    "                             \n",
    "                             "
   ]
  },
  {
   "cell_type": "code",
   "execution_count": 123,
   "id": "33d4716a",
   "metadata": {},
   "outputs": [],
   "source": [
    "ratings=[]\n",
    "for i in rat_tag:\n",
    "    ratings.append(i.text)"
   ]
  },
  {
   "cell_type": "code",
   "execution_count": 124,
   "id": "0f89e5f2",
   "metadata": {},
   "outputs": [
    {
     "data": {
      "text/plain": [
       "10"
      ]
     },
     "execution_count": 124,
     "metadata": {},
     "output_type": "execute_result"
    }
   ],
   "source": [
    "len(ratings)"
   ]
  },
  {
   "cell_type": "code",
   "execution_count": 125,
   "id": "c5fdbaca",
   "metadata": {},
   "outputs": [
    {
     "name": "stdout",
     "output_type": "stream",
     "text": [
      "['5', '5', '5', '', '', '', '', '', '', '']\n"
     ]
    }
   ],
   "source": [
    "print(ratings)"
   ]
  },
  {
   "cell_type": "code",
   "execution_count": 128,
   "id": "0c476146",
   "metadata": {},
   "outputs": [],
   "source": [
    "rev_tag=driver.find_elements(By.XPATH,'//p[@class=\"_2-N8zT\"]')"
   ]
  },
  {
   "cell_type": "code",
   "execution_count": 131,
   "id": "6e64f123",
   "metadata": {},
   "outputs": [],
   "source": [
    "review=[]\n",
    "for i in rev_tag:\n",
    "    review.append(i.text)"
   ]
  },
  {
   "cell_type": "code",
   "execution_count": 132,
   "id": "4a07605a",
   "metadata": {},
   "outputs": [
    {
     "data": {
      "text/plain": [
       "10"
      ]
     },
     "execution_count": 132,
     "metadata": {},
     "output_type": "execute_result"
    }
   ],
   "source": [
    "len(review)"
   ]
  },
  {
   "cell_type": "code",
   "execution_count": 133,
   "id": "e8446b13",
   "metadata": {},
   "outputs": [
    {
     "name": "stdout",
     "output_type": "stream",
     "text": [
      "['Simply awesome', 'Perfect product!', 'Best in the market!', '', '', '', '', '', '', '']\n"
     ]
    }
   ],
   "source": [
    "print(review)"
   ]
  },
  {
   "cell_type": "code",
   "execution_count": 134,
   "id": "ec08c4ae",
   "metadata": {},
   "outputs": [],
   "source": [
    "full_rev=driver.find_elements(By.XPATH,'/html/body/div[1]/div/div[3]/div[1]/div[2]/div[9]/div[6]/div/div[4]/div[1]/div/div/div[2]/div/div/div')"
   ]
  },
  {
   "cell_type": "code",
   "execution_count": 135,
   "id": "442020e5",
   "metadata": {},
   "outputs": [],
   "source": [
    "Review=[]\n",
    "for i in full_rev:\n",
    "    Review.append(i.text)"
   ]
  },
  {
   "cell_type": "code",
   "execution_count": 137,
   "id": "612253d4",
   "metadata": {},
   "outputs": [
    {
     "name": "stdout",
     "output_type": "stream",
     "text": [
      "['Really satisfied with the Product I received... It’s totally genuine and the packaging was also really good so if ur planning to buy just go for it.']\n"
     ]
    }
   ],
   "source": [
    "print(Review)"
   ]
  },
  {
   "cell_type": "code",
   "execution_count": 138,
   "id": "219303b6",
   "metadata": {},
   "outputs": [],
   "source": [
    "###6.Scrape 100 snekars from FLIPKART.COM"
   ]
  },
  {
   "cell_type": "code",
   "execution_count": 139,
   "id": "8fbcd528",
   "metadata": {},
   "outputs": [
    {
     "name": "stderr",
     "output_type": "stream",
     "text": [
      "C:\\Users\\User\\AppData\\Local\\Temp\\ipykernel_16188\\657009004.py:1: DeprecationWarning: executable_path has been deprecated, please pass in a Service object\n",
      "  driver=webdriver.Chrome('chromedriver.exe')\n"
     ]
    }
   ],
   "source": [
    "driver=webdriver.Chrome('chromedriver.exe')\n",
    "\n",
    "url='https://www.flipkart.com/'\n",
    "driver.get(url)"
   ]
  },
  {
   "cell_type": "code",
   "execution_count": 159,
   "id": "6703cdf9",
   "metadata": {},
   "outputs": [],
   "source": [
    "search=driver.find_element(By.CLASS_NAME,'_3704LK')"
   ]
  },
  {
   "cell_type": "code",
   "execution_count": 160,
   "id": "bacd3b76",
   "metadata": {},
   "outputs": [],
   "source": [
    "search.send_keys('Sneakers')"
   ]
  },
  {
   "cell_type": "code",
   "execution_count": 161,
   "id": "536217db",
   "metadata": {},
   "outputs": [],
   "source": [
    "search_btn=driver.find_element(By.CLASS_NAME,'L0Z3Pu')"
   ]
  },
  {
   "cell_type": "code",
   "execution_count": 162,
   "id": "f9729691",
   "metadata": {},
   "outputs": [],
   "source": [
    "search_btn.click()"
   ]
  },
  {
   "cell_type": "code",
   "execution_count": 144,
   "id": "e04b3951",
   "metadata": {},
   "outputs": [],
   "source": [
    "brand_tag=driver.find_elements(By.XPATH,'//div[@class=\"_2WkVRV\"]')"
   ]
  },
  {
   "cell_type": "code",
   "execution_count": 145,
   "id": "ca532e7e",
   "metadata": {},
   "outputs": [],
   "source": [
    "brand=[]\n",
    "for i in brand_tag:\n",
    "    brand.append(i.text)"
   ]
  },
  {
   "cell_type": "code",
   "execution_count": 146,
   "id": "fe8eb8c2",
   "metadata": {},
   "outputs": [
    {
     "data": {
      "text/plain": [
       "40"
      ]
     },
     "execution_count": 146,
     "metadata": {},
     "output_type": "execute_result"
    }
   ],
   "source": [
    "len(brand)"
   ]
  },
  {
   "cell_type": "code",
   "execution_count": 147,
   "id": "6ccd8af5",
   "metadata": {},
   "outputs": [],
   "source": [
    "nxt_btn=driver.find_elements(By.XPATH,'/html/body/div[1]/div/div[3]/div[1]/div[2]/div[12]/div/div/nav/a[11]/span')"
   ]
  },
  {
   "cell_type": "code",
   "execution_count": 149,
   "id": "71bc0120",
   "metadata": {},
   "outputs": [],
   "source": [
    "nxt_btn[0].click()"
   ]
  },
  {
   "cell_type": "code",
   "execution_count": 150,
   "id": "f540c033",
   "metadata": {},
   "outputs": [],
   "source": [
    "brand_tag2=driver.find_elements(By.XPATH,'//div[@class=\"_2WkVRV\"]')"
   ]
  },
  {
   "cell_type": "code",
   "execution_count": 151,
   "id": "167bd266",
   "metadata": {},
   "outputs": [],
   "source": [
    "for i in brand_tag2:\n",
    "    brand.append(i.text)"
   ]
  },
  {
   "cell_type": "code",
   "execution_count": 152,
   "id": "56b9706e",
   "metadata": {},
   "outputs": [
    {
     "data": {
      "text/plain": [
       "80"
      ]
     },
     "execution_count": 152,
     "metadata": {},
     "output_type": "execute_result"
    }
   ],
   "source": [
    "len(brand)"
   ]
  },
  {
   "cell_type": "code",
   "execution_count": 153,
   "id": "81fbd1b5",
   "metadata": {},
   "outputs": [],
   "source": [
    "brand_tag3=driver.find_elements(By.XPATH,'//div[@class=\"_2WkVRV\"]')"
   ]
  },
  {
   "cell_type": "code",
   "execution_count": 154,
   "id": "aabec558",
   "metadata": {},
   "outputs": [],
   "source": [
    "for i in brand_tag2:\n",
    "    brand.append(i.text)"
   ]
  },
  {
   "cell_type": "code",
   "execution_count": 155,
   "id": "add0909f",
   "metadata": {},
   "outputs": [
    {
     "data": {
      "text/plain": [
       "120"
      ]
     },
     "execution_count": 155,
     "metadata": {},
     "output_type": "execute_result"
    }
   ],
   "source": [
    "len(brand)"
   ]
  },
  {
   "cell_type": "code",
   "execution_count": 157,
   "id": "50daf273",
   "metadata": {},
   "outputs": [],
   "source": [
    "Brand=brand[0:100]"
   ]
  },
  {
   "cell_type": "code",
   "execution_count": 158,
   "id": "aef59b55",
   "metadata": {},
   "outputs": [
    {
     "name": "stdout",
     "output_type": "stream",
     "text": [
      "['Wildcraft', 'Rising Wolf', 'WOODLAND', 'BRUTON', 'BRUTON', 'Magnolia', 'URBANBOX', 'corsac', 'Labbin', 'BIRDE', 'aadi', 'Roadster', 'BIRDE', 'ONECENTRE', 'PUMA', 'kardam&sons', 'Chevit', 'SFR', 'HOTSTYLE', 'MAFLO', 'corsac', 'ASTEROID', 'KWIK FIT', 'HOTSTYLE', 'BIRDE', 'BRUTON', 'SCATCHITE', 'AERAMBOL', 'CLYMB', 'Kraasa', 'Kraasa', 'Bacan', 'Kraasa', 'Robbie jones', 'BIRDE', 'luxury fashion', 'Kzaara', 'PUMA', 'PUMA', 'Arivo', 'D-SNEAKERZ', 'BRUTON', 'aadi', 'Wildcraft', 'Noztile', 'BRUTON', 'KNIGHT WALKERS', 'corsac', 'Dizzler', 'Rzisbo', 'DUKE', 'corsac', 'SPARX', 'ASTEROID', 'Magnolia', 'corsac', 'WHITE WALKERS', 'aadi', 'AMICO', 'Roadster', 'Airland', 'Eiffel', 'Shoes Bank', 'MAFLO', 'Airland', 'Aragats', 'Chevit', 'HOTSTYLE', 'Numenzo', 'Layasa', 'LE GREEM', 'kardam&sons', 'luxury fashion', 'India hub', 'Stinson', 'Bacan', 'Numenzo', 'aadi', 'BIRDE', 'AERAMBOL', 'D-SNEAKERZ', 'BRUTON', 'aadi', 'Wildcraft', 'Noztile', 'BRUTON', 'KNIGHT WALKERS', 'corsac', 'Dizzler', 'Rzisbo', 'DUKE', 'corsac', 'SPARX', 'ASTEROID', 'Magnolia', 'corsac', 'WHITE WALKERS', 'aadi', 'AMICO', 'Roadster']\n"
     ]
    }
   ],
   "source": [
    "print(Brand)"
   ]
  },
  {
   "cell_type": "code",
   "execution_count": 163,
   "id": "199d70e1",
   "metadata": {},
   "outputs": [],
   "source": [
    "des_tag=driver.find_elements(By.XPATH,'//a[@class=\"IRpwTa\"]')"
   ]
  },
  {
   "cell_type": "code",
   "execution_count": 164,
   "id": "3f7222a9",
   "metadata": {},
   "outputs": [],
   "source": [
    "des=[]\n",
    "for i in des_tag:\n",
    "    des.append(i.text)"
   ]
  },
  {
   "cell_type": "code",
   "execution_count": 165,
   "id": "e24a87b8",
   "metadata": {},
   "outputs": [
    {
     "data": {
      "text/plain": [
       "32"
      ]
     },
     "execution_count": 165,
     "metadata": {},
     "output_type": "execute_result"
    }
   ],
   "source": [
    "len(des)"
   ]
  },
  {
   "cell_type": "code",
   "execution_count": 167,
   "id": "db2b8fe0",
   "metadata": {},
   "outputs": [],
   "source": [
    "nxt_btn=driver.find_elements(By.XPATH,'/html/body/div[1]/div/div[3]/div[1]/div[2]/div[12]/div/div/nav/a[11]/span')"
   ]
  },
  {
   "cell_type": "code",
   "execution_count": 168,
   "id": "97f85aed",
   "metadata": {},
   "outputs": [],
   "source": [
    "nxt_btn[0].click()"
   ]
  },
  {
   "cell_type": "code",
   "execution_count": 169,
   "id": "aa648867",
   "metadata": {},
   "outputs": [],
   "source": [
    "des_tag2=driver.find_elements(By.XPATH,'//a[@class=\"IRpwTa\"]')"
   ]
  },
  {
   "cell_type": "code",
   "execution_count": 170,
   "id": "06acb0fa",
   "metadata": {},
   "outputs": [],
   "source": [
    "for i in des_tag2:\n",
    "    des.append(i.text)"
   ]
  },
  {
   "cell_type": "code",
   "execution_count": 171,
   "id": "596da031",
   "metadata": {},
   "outputs": [
    {
     "data": {
      "text/plain": [
       "63"
      ]
     },
     "execution_count": 171,
     "metadata": {},
     "output_type": "execute_result"
    }
   ],
   "source": [
    "len(des)"
   ]
  },
  {
   "cell_type": "code",
   "execution_count": 172,
   "id": "289db767",
   "metadata": {},
   "outputs": [],
   "source": [
    "nxt_btn[0].click()"
   ]
  },
  {
   "cell_type": "code",
   "execution_count": 174,
   "id": "cc0c45a0",
   "metadata": {},
   "outputs": [],
   "source": [
    "des_tag3=driver.find_elements(By.XPATH,'//a[@class=\"IRpwTa\"]')"
   ]
  },
  {
   "cell_type": "code",
   "execution_count": 175,
   "id": "d83779c9",
   "metadata": {},
   "outputs": [],
   "source": [
    "for i in des_tag3:\n",
    "    des.append(i.text)"
   ]
  },
  {
   "cell_type": "code",
   "execution_count": 176,
   "id": "e47faed6",
   "metadata": {},
   "outputs": [
    {
     "name": "stdout",
     "output_type": "stream",
     "text": [
      "['True Black Shoe Sneakers For Men', 'Sneakers For Men', 'Modern Trendy Sneakers Shoes Sneakers For Men', 'Modern Trendy Sneakers Shoes Sneakers For Men', 'Sneakers For Men', 'Sneakers For Men', 'Stylish Comfortable Lightweight, Breathable Walking Sho...', 'Sneakers For Men', 'Sneakers For Men', 'Stylish Comfortable Lightweight, Breathable Walking Sho...', 'STR2 Sneakers For Men', 'Puma Smash v2 L Sneakers For Men', 'Super Stylish & Trendy Combo Pack of 02 Pairs Sneakers ...', 'Sneakers For Men', 'Sneakers For Men', 'STYLISH MENS BLACK SNEAKER Sneakers For Men', \"Original Luxury Branded Fashionable Men's Casual Walkin...\", 'Kwik FIT casual sneaker shoes and partywear shoes Casua...', 'Stylish Comfortable Lightweight, Breathable Casual Walk...', 'Sneaker Sneakers For Men', 'Sneakers Sneakers For Men', 'Sneakers For Men', 'Shark-41 Sneakers For Men', 'Casuals, Canvas, Partywear Sneakers For Men', 'Sneakers For Men', 'Series 7 Sneakers For Men', 'Casual Sneakers Canvas Shoes For Men Sneakers For Men', 'Sports Running Shoes Sneakers For Men', 'Luxury Fashionable casual shoes Sneakers For Men', 'Sneakers For Men', 'Smash v2 L White- Black Sneakers For Men', 'ST Activate V2 Sneakers For Men', \"Casual , Partywear Sneakers Shoes For Men's And Boys Wh...\", 'Lattest Sneakers Shoe Sneakers For Men', 'Sneakers For Men', 'Sneakers For Men', 'Sneakers For Men', 'Lightweight Pack Of 1 Trendy Sneakers Sneakers For Men', 'SS1100 Sneakers For Men', 'STYLISH MENS BLACK SNEAKER Sneakers For Men', 'Sneakers For Men', 'Sneakers For Men', 'Men White Sneakers Sneakers For Men', 'Original Luxury Branded Black Fancy Casual Walking Part...', 'Sneakers For Men', 'Stylish & Trending Outdoor Walking Comfortable Sneakers...', 'Mesh | Ultralightweight | Comfortable | Breathable Walk...', 'Sneakers For Men', '1259 smart black lace-ups sneakers for men Sneakers For...', \"White Sneaker For Men's/Boy's Sneakers For Men\", 'Sneakers For Men', 'sneaker men red 1258 - 8 Sneakers For Men', 'Casual Sneakers For Men', \"Men's Combo Pack of 02 Shoes for Men Casual Sneakers Ou...\", 'Sneakers For Men', 'Sneakers For Men', 'Comfortable & Ultra Light Weight Sneaker Sneakers For M...', 'Luxury Fashionable casual sneaker shoes Sneakers For Me...', 'Luxury Fashionable casual sneaker shoes Sneakers For Me...', '411 Casual Sneakers For Men', 'Sneakers For Men', 'Stylish Comfortable Lightweight, Breathable Walking Sho...', 'Fashionable Canvas Casual Partywear Outdoor Sneakers Bl...', 'Sneakers For Men', 'Stylish Comfortable Lightweight, Breathable Walking Sho...', 'Combo Pack of 3 Casual Shoes Sneakers For Men', 'True Black Shoe Sneakers For Men', 'Stylish & Trending Outdoor Walking Comfortable Sneakers...', 'Casual Sneakers White Shoes For Men Sneakers For Men', \"Men's Casual sneaker shoes running shoes walking shoes ...\", 'Trinity Sneakers For Men', 'Brave Sneakers For Men', 'Stylish & Trending Outdoor Walking Comfortable Sneakers...', 'casual sneaker shoes for men luxury fashion casual snea...', 'Stylish Party Wear Casual Sneakers Shoes For Men Sneake...', 'Sneakers For Men', 'Comfortable & Ultra Light Weight Sneaker Sneakers For M...', \"White casual, gym,training & Running sneakers for men's...\", 'Exclusive Sneaker Shoes Sneakers For Men', 'Synthetic Leather Sneakers For Men', 'Combo Pack of 3 Casual Shoes, Sneakers For Men', 'Sneakers For Men', 'Sneakers For Men', 'Ferrari Electron E Pro Sneakers For Men', 'Sneakers For Men', 'Combo Pack Of 2 Latest Stylish Casual Shoes for Men Lac...', 'Sneakers For Men', 'Sneakers For Men', 'Sneakers For Men', 'R78 Sneakers For Men', 'Blend Sneakers For Men', 'STYLISH MENS BLACK TRENDY SNEAKER FOR MENS Sneakers For...', 'Modern Trendy Sneakers Shoes Sneakers For Men', 'CLARKIN Sneakers For Men', 'Unique & Perfect Collection Combo Pack of 02 Shoes for ...', 'Sneakers For Men', 'casual for men Sneakers For Men']\n"
     ]
    }
   ],
   "source": [
    "print(des)"
   ]
  },
  {
   "cell_type": "code",
   "execution_count": 177,
   "id": "b812c64a",
   "metadata": {},
   "outputs": [],
   "source": [
    "price_tag=driver.find_elements(By.XPATH,'//div[@class=\"_30jeq3\"]')"
   ]
  },
  {
   "cell_type": "code",
   "execution_count": 178,
   "id": "cbbebade",
   "metadata": {},
   "outputs": [],
   "source": [
    "price=[]\n",
    "for i in price_tag:\n",
    "    price.append(i.text)"
   ]
  },
  {
   "cell_type": "code",
   "execution_count": 179,
   "id": "f6a64ba7",
   "metadata": {},
   "outputs": [
    {
     "data": {
      "text/plain": [
       "40"
      ]
     },
     "execution_count": 179,
     "metadata": {},
     "output_type": "execute_result"
    }
   ],
   "source": [
    "len(price)"
   ]
  },
  {
   "cell_type": "code",
   "execution_count": 180,
   "id": "c3ae628f",
   "metadata": {},
   "outputs": [],
   "source": [
    "nxt_btn=driver.find_elements(By.XPATH,'/html/body/div[1]/div/div[3]/div[1]/div[2]/div[12]/div/div/nav/a[11]/span')"
   ]
  },
  {
   "cell_type": "code",
   "execution_count": 182,
   "id": "1079772a",
   "metadata": {},
   "outputs": [],
   "source": [
    "nxt_btn[0].click()"
   ]
  },
  {
   "cell_type": "code",
   "execution_count": 183,
   "id": "3b6c9ede",
   "metadata": {},
   "outputs": [],
   "source": [
    "price_tag2=driver.find_elements(By.XPATH,'//div[@class=\"_30jeq3\"]')"
   ]
  },
  {
   "cell_type": "code",
   "execution_count": 185,
   "id": "1d691d61",
   "metadata": {},
   "outputs": [],
   "source": [
    "for i in price_tag2:\n",
    "    price.append(i.text)"
   ]
  },
  {
   "cell_type": "code",
   "execution_count": 186,
   "id": "0afd9c9e",
   "metadata": {},
   "outputs": [
    {
     "data": {
      "text/plain": [
       "80"
      ]
     },
     "execution_count": 186,
     "metadata": {},
     "output_type": "execute_result"
    }
   ],
   "source": [
    "len(price)"
   ]
  },
  {
   "cell_type": "code",
   "execution_count": 187,
   "id": "eb3fec9f",
   "metadata": {},
   "outputs": [],
   "source": [
    "nxt_btn[0].click()"
   ]
  },
  {
   "cell_type": "code",
   "execution_count": 188,
   "id": "777b3cab",
   "metadata": {},
   "outputs": [],
   "source": [
    "price_tag3=driver.find_elements(By.XPATH,'//div[@class=\"_30jeq3\"]')"
   ]
  },
  {
   "cell_type": "code",
   "execution_count": 189,
   "id": "1ba789f4",
   "metadata": {},
   "outputs": [],
   "source": [
    "for i in price_tag3:\n",
    "    price.append(i.text)"
   ]
  },
  {
   "cell_type": "code",
   "execution_count": 190,
   "id": "f63bab62",
   "metadata": {},
   "outputs": [
    {
     "data": {
      "text/plain": [
       "120"
      ]
     },
     "execution_count": 190,
     "metadata": {},
     "output_type": "execute_result"
    }
   ],
   "source": [
    "len(price)"
   ]
  },
  {
   "cell_type": "code",
   "execution_count": 191,
   "id": "5063c43a",
   "metadata": {},
   "outputs": [],
   "source": [
    "Price=price[0:100]"
   ]
  },
  {
   "cell_type": "code",
   "execution_count": 192,
   "id": "44e63f9f",
   "metadata": {},
   "outputs": [
    {
     "name": "stdout",
     "output_type": "stream",
     "text": [
      "['₹549', '₹399', '₹2,096', '₹269', '₹299', '₹449', '₹198', '₹428', '₹499', '₹378', '₹319', '₹249', '₹335', '₹299', '₹1,763', '₹749', '₹649', '₹289', '₹258', '₹3,999', '₹499', '₹474', '₹397', '₹1,499', '₹269', '₹399', '₹335', '₹1,455', '₹579', '₹479', '₹479', '₹749', '₹479', '₹499', '₹254', '₹426', '₹249', '₹2,029', '₹1,749', '₹2,399', '₹299', '₹269', '₹299', '₹1,119', '₹199', '₹399', '₹699', '₹1,949', '₹449', '₹464', '₹1,318', '₹2,079', '₹449', '₹474', '₹730', '₹229', '₹599', '₹799', '₹494', '₹1,255', '₹239', '₹469', '₹298', '₹2,399', '₹246', '₹549', '₹466', '₹2,759', '₹399', '₹539', '₹499', '₹2,599', '₹399', '₹397', '₹229', '₹499', '₹450', '₹399', '₹1,899', '₹195', '₹284', '₹419', '₹670', '₹629', '₹599', '₹499', '₹699', '₹699', '₹2,029', '₹1,715', '₹599', '₹699', '₹179', '₹699', '₹1,135', '₹699', '₹499', '₹299', '₹398', '₹399', '₹561', '₹426', '₹319', '₹598', '₹399', '₹566', '₹424', '₹385', '₹499', '₹2,339', '₹1,799', '₹428', '₹630', '₹499', '₹299', '₹598', '₹1,949', '₹424', '₹449', '₹249']\n"
     ]
    }
   ],
   "source": [
    "print(price)"
   ]
  },
  {
   "cell_type": "code",
   "execution_count": 193,
   "id": "30345b6d",
   "metadata": {},
   "outputs": [],
   "source": [
    "discount_tag=driver.find_elements(By.XPATH,'//div[@class=\"_3Ay6Sb\"]')"
   ]
  },
  {
   "cell_type": "code",
   "execution_count": 194,
   "id": "28e6df83",
   "metadata": {},
   "outputs": [],
   "source": [
    "discount=[]\n",
    "for i in discount_tag:\n",
    "    discount.append(i.text)"
   ]
  },
  {
   "cell_type": "code",
   "execution_count": 195,
   "id": "4de4dd94",
   "metadata": {},
   "outputs": [
    {
     "data": {
      "text/plain": [
       "40"
      ]
     },
     "execution_count": 195,
     "metadata": {},
     "output_type": "execute_result"
    }
   ],
   "source": [
    "len(discount)"
   ]
  },
  {
   "cell_type": "code",
   "execution_count": 196,
   "id": "cfdc326f",
   "metadata": {},
   "outputs": [],
   "source": [
    "nxt_btn=driver.find_elements(By.XPATH,'/html/body/div[1]/div/div[3]/div[1]/div[2]/div[12]/div/div/nav/a[11]/span')"
   ]
  },
  {
   "cell_type": "code",
   "execution_count": 197,
   "id": "532508ff",
   "metadata": {},
   "outputs": [],
   "source": [
    "nxt_btn[0].click()"
   ]
  },
  {
   "cell_type": "code",
   "execution_count": 198,
   "id": "d03230a1",
   "metadata": {},
   "outputs": [],
   "source": [
    "discount_tag2=driver.find_elements(By.XPATH,'//div[@class=\"_3Ay6Sb\"]')"
   ]
  },
  {
   "cell_type": "code",
   "execution_count": 199,
   "id": "ce706b3f",
   "metadata": {},
   "outputs": [],
   "source": [
    "for i in discount_tag2:\n",
    "    discount.append(i.text)"
   ]
  },
  {
   "cell_type": "code",
   "execution_count": 200,
   "id": "b1347b30",
   "metadata": {},
   "outputs": [
    {
     "data": {
      "text/plain": [
       "80"
      ]
     },
     "execution_count": 200,
     "metadata": {},
     "output_type": "execute_result"
    }
   ],
   "source": [
    "len(discount)"
   ]
  },
  {
   "cell_type": "code",
   "execution_count": 201,
   "id": "7fda6200",
   "metadata": {},
   "outputs": [],
   "source": [
    "nxt_btn[0].click()"
   ]
  },
  {
   "cell_type": "code",
   "execution_count": 202,
   "id": "296ce8f2",
   "metadata": {},
   "outputs": [],
   "source": [
    "discount_tag3=driver.find_elements(By.XPATH,'//div[@class=\"_3Ay6Sb\"]')"
   ]
  },
  {
   "cell_type": "code",
   "execution_count": 203,
   "id": "2d1c1baf",
   "metadata": {},
   "outputs": [],
   "source": [
    "for i in discount_tag3:\n",
    "    discount.append(i.text)"
   ]
  },
  {
   "cell_type": "code",
   "execution_count": 204,
   "id": "1067b1df",
   "metadata": {},
   "outputs": [
    {
     "data": {
      "text/plain": [
       "120"
      ]
     },
     "execution_count": 204,
     "metadata": {},
     "output_type": "execute_result"
    }
   ],
   "source": [
    "len(discount)"
   ]
  },
  {
   "cell_type": "code",
   "execution_count": 205,
   "id": "1c272d71",
   "metadata": {},
   "outputs": [],
   "source": [
    "Discount=discount[0:100]"
   ]
  },
  {
   "cell_type": "code",
   "execution_count": 206,
   "id": "15063c4f",
   "metadata": {},
   "outputs": [
    {
     "name": "stdout",
     "output_type": "stream",
     "text": [
      "['53% off', '67% off', '30% off', '79% off', '76% off', '55% off', '80% off', '61% off', '50% off', '62% off', '68% off', '40% off', '66% off', '50% off', '49% off', '70% off', '65% off', '71% off', '74% off', '60% off', '66% off', '76% off', '80% off', '54% off', '79% off', '60% off', '66% off', '62% off', '61% off', '52% off', '52% off', '67% off', '52% off', '50% off', '74% off', '62% off', '75% off', '42% off', '50% off', '45% off', '54% off', '79% off', '70% off', '49% off', '66% off', '80% off', '65% off', '64% off', '37% off', '53% off', '60% off', '49% off', '55% off', '52% off', '14% off', '60% off', '50% off', '60% off', '50% off', '36% off', '52% off', '53% off', '70% off', '35% off', '50% off', '45% off', '57% off', '65% off', '60% off', '82% off', '50% off', '35% off', '69% off', '80% off', '54% off', '44% off', '77% off', '80% off', '36% off', '57% off', '58% off', '71% off', '55% off', '36% off', '50% off', '50% off', '65% off', '36% off', '48% off', '42% off', '64% off', '40% off', '50% off', '30% off', '50% off', '40% off', '65% off', '60% off', '60% off', '37% off']\n"
     ]
    }
   ],
   "source": [
    "print(Discount)"
   ]
  },
  {
   "cell_type": "code",
   "execution_count": 207,
   "id": "66a71cb3",
   "metadata": {},
   "outputs": [],
   "source": [
    "## 8. Scrape the Laptops from Amazon.com"
   ]
  },
  {
   "cell_type": "code",
   "execution_count": 4,
   "id": "dbf4f882",
   "metadata": {},
   "outputs": [
    {
     "name": "stderr",
     "output_type": "stream",
     "text": [
      "C:\\Users\\User\\AppData\\Local\\Temp\\ipykernel_13016\\4152794776.py:1: DeprecationWarning: executable_path has been deprecated, please pass in a Service object\n",
      "  driver=webdriver.Chrome('chromedriver.exe')\n"
     ]
    }
   ],
   "source": [
    "driver=webdriver.Chrome('chromedriver.exe')\n",
    "\n",
    "url='https://www.amazon.in/'"
   ]
  },
  {
   "cell_type": "code",
   "execution_count": 5,
   "id": "853e5f67",
   "metadata": {},
   "outputs": [],
   "source": [
    "\n",
    "driver.get(url)"
   ]
  },
  {
   "cell_type": "code",
   "execution_count": 14,
   "id": "d3a1be70",
   "metadata": {},
   "outputs": [],
   "source": [
    "search_btn=driver.find_element(By.XPATH,'/html/body/div[1]/header/div/div[1]/div[2]/div/form/div[2]/div[1]/input')"
   ]
  },
  {
   "cell_type": "code",
   "execution_count": 15,
   "id": "7ad5b128",
   "metadata": {},
   "outputs": [],
   "source": [
    "search_btn.send_keys('Laptop')"
   ]
  },
  {
   "cell_type": "code",
   "execution_count": 16,
   "id": "8dce787d",
   "metadata": {},
   "outputs": [],
   "source": [
    "search=driver.find_element(By.XPATH,'/html/body/div[1]/header/div/div[1]/div[2]/div/form/div[3]/div')"
   ]
  },
  {
   "cell_type": "code",
   "execution_count": 17,
   "id": "4ccdee76",
   "metadata": {},
   "outputs": [],
   "source": [
    "search.click()"
   ]
  },
  {
   "cell_type": "code",
   "execution_count": 18,
   "id": "0123006e",
   "metadata": {},
   "outputs": [],
   "source": [
    "i7_search=driver.find_element(By.XPATH,'/html/body/div[1]/div[2]/div[1]/div[2]/div/div[3]/span/div[1]/div/div/div[6]/ul[2]/li[12]/span/a/div/label/i')"
   ]
  },
  {
   "cell_type": "code",
   "execution_count": 19,
   "id": "b80557d4",
   "metadata": {},
   "outputs": [],
   "source": [
    "i7_search.click()"
   ]
  },
  {
   "cell_type": "code",
   "execution_count": 20,
   "id": "9cba8882",
   "metadata": {},
   "outputs": [],
   "source": [
    "title_tag=driver.find_elements(By.XPATH,'//div[@class=\"a-section a-spacing-none s-padding-right-small s-title-instructions-style\"]')"
   ]
  },
  {
   "cell_type": "code",
   "execution_count": 24,
   "id": "67f97fee",
   "metadata": {},
   "outputs": [
    {
     "data": {
      "text/plain": [
       "24"
      ]
     },
     "execution_count": 24,
     "metadata": {},
     "output_type": "execute_result"
    }
   ],
   "source": [
    "len(title_tag)"
   ]
  },
  {
   "cell_type": "code",
   "execution_count": 25,
   "id": "6182623a",
   "metadata": {},
   "outputs": [],
   "source": [
    "title=[]\n",
    "for i in title_tag:\n",
    "    title.append(i.text)"
   ]
  },
  {
   "cell_type": "code",
   "execution_count": 27,
   "id": "ce76eaf2",
   "metadata": {},
   "outputs": [],
   "source": [
    "Title=title[0:10]"
   ]
  },
  {
   "cell_type": "code",
   "execution_count": 28,
   "id": "daecb360",
   "metadata": {},
   "outputs": [
    {
     "name": "stdout",
     "output_type": "stream",
     "text": [
      "['ASUS TUF Gaming F15 (2021), 15.6\" (39.62 cms) FHD 144Hz, Intel Core i7-11600H 11th Gen, 4GB RTX 3050 Graphics, Gaming Laptop (16GB/512GB SSD/Windows 10/Office 2019/Gray/2.3 Kg), FX566HCB-HN299TS', 'Hp Pavilion 15 12Th Gen Intel Core I7 16Gb Sdram/1Tb Ssd 15.6 Inches (39.6Cm) Fhd,IPS/Intel Iris Xe Graphics/B&O/Windows 11 Home/Alexa/Backlit Kb/Fpr/Mso 2021/1.75Kg, 15-Eg2039Tu, Natural Silver', 'Lenovo ThinkBook 15 Intel 11th Gen Core i7 15.6\"(39.62 cm)FHD Thin and Light Laptop (16GB/512GB SSD/Windows 11 Home/MS Office H&S 2021/Iris® Xe Graphics/Backlit/Mineral Grey/1.7 Kg) 20VE00W4IH', 'Hp Pavilion X360 11Th Gen Intel Core I7 14 Inches Fhd Multitouch 2In1 Laptop (16Gb Ram/512Gb Ssd/B&O/Windows 11 Home/Fpr/Backlit Kb/Intel Iris Xe Graphics/Pen/Alexa/Ms Office/Silver/1.52Kg)14-Dy1047Tu', 'Samsung Galaxy Book2 Intel 12th Gen core i7 39.6cm (15.6\") FHD LED Thin & Light Laptop (16 GB/512 GB SSD/Windows 11/MS Office/Backlit Keyboard/Fingerprint Reader/Silver/1.55Kg), NP750XED-KC2IN', 'LG Gram 16 Intel Evo 11th Gen i7 Thin & Light Laptop 2K+ IPS 16:10 Display [16 GB RAM/ 512 GB SSD/ Windows 11 / Iris Xe Graphics/ Thunderbolt 4, USC -C x 2 / 1.19 kg, Black/ 3Yr Warranty] 16Z90P', 'ASUS Vivobook 15, 15.6-inch (39.62 cms) FHD, Intel Core i7-1065G7 10th Gen, Thin and Light Laptop (16GB/512GB SSD/Iris Plus Graphics/Windows 11/Office 2021/Silver/1.8 kg), X515JA-EJ701WS', 'HP Pavilion 14 12th Gen Intel Core i7 16GB SDRAM/1TB SSD 14 inch(35.6cm) FHD,IPS,Micro-Edge Display/Intel UHD Graphics/B&O/Win 11/Alexa Built-in/Backlit KB/FPR/MSO 2021/Natural Silver, 14-dv2015TU', 'Lenovo ThinkBook 13s Intel 11th Gen Core i7 13.3\"(33.78 cm) WQXGA IPS 300 nits 100% sRGB Dolby Vision Thin and Light Laptop (16GB/512GB SSD/Windows 10 Professional/Mineral Grey/1.26 Kg), 20V9A032IH', 'HP Pavilion 11th Gen Intel Core i7 15.6 inches FHD Gaming Laptop (16GB RAM/512GB SSD/144Hz/4GB NVIDIA GeForce GTX 1650 Graphics/Windows 10 Home/MS Office/Shadow Black/2.28 Kg), 15-dk2075tx']\n"
     ]
    }
   ],
   "source": [
    "print(Title)"
   ]
  },
  {
   "cell_type": "code",
   "execution_count": 90,
   "id": "b57060fd",
   "metadata": {},
   "outputs": [],
   "source": [
    "price_tag=driver.find_elements(By.XPATH,'//span[@class=\"a-price-whole\"]')"
   ]
  },
  {
   "cell_type": "code",
   "execution_count": 91,
   "id": "0b8fd75b",
   "metadata": {},
   "outputs": [
    {
     "data": {
      "text/plain": [
       "26"
      ]
     },
     "execution_count": 91,
     "metadata": {},
     "output_type": "execute_result"
    }
   ],
   "source": [
    "len(price_tag)"
   ]
  },
  {
   "cell_type": "code",
   "execution_count": 92,
   "id": "3ac3c03c",
   "metadata": {},
   "outputs": [],
   "source": [
    "price=[]\n",
    "for i in price_tag:\n",
    "    price.append(i.text)"
   ]
  },
  {
   "cell_type": "code",
   "execution_count": 93,
   "id": "6cbc4120",
   "metadata": {},
   "outputs": [],
   "source": [
    "Price=price[0:10]"
   ]
  },
  {
   "cell_type": "code",
   "execution_count": 94,
   "id": "7fea3560",
   "metadata": {},
   "outputs": [
    {
     "name": "stdout",
     "output_type": "stream",
     "text": [
      "['89,990', '76,492', '87,900', '86,990', '82,990', '79,990', '85,499', '57,890', '86,990', '89,990']\n"
     ]
    }
   ],
   "source": [
    "print(Price)"
   ]
  },
  {
   "cell_type": "code",
   "execution_count": 99,
   "id": "9ca0eddd",
   "metadata": {},
   "outputs": [],
   "source": [
    "rating_tag=driver.find_elements(By.XPATH,'//div[@class=\"a-row a-size-small\"]')"
   ]
  },
  {
   "cell_type": "code",
   "execution_count": 100,
   "id": "7ec89fac",
   "metadata": {},
   "outputs": [
    {
     "data": {
      "text/plain": [
       "19"
      ]
     },
     "execution_count": 100,
     "metadata": {},
     "output_type": "execute_result"
    }
   ],
   "source": [
    "len(rating_tag)"
   ]
  },
  {
   "cell_type": "code",
   "execution_count": 101,
   "id": "0f080e60",
   "metadata": {},
   "outputs": [],
   "source": [
    "rating=[]\n",
    "for i in rating_tag:\n",
    "    rating.append(i.text)"
   ]
  },
  {
   "cell_type": "code",
   "execution_count": 102,
   "id": "84736a8b",
   "metadata": {},
   "outputs": [
    {
     "name": "stdout",
     "output_type": "stream",
     "text": [
      "['26', '5', '49', '14', '16', '143', '161', '9', '24', '38', '17', '60', '9', '24', '85', '5', '9', '5', '1']\n"
     ]
    }
   ],
   "source": [
    "print(rating)"
   ]
  },
  {
   "cell_type": "code",
   "execution_count": 103,
   "id": "3c5b4b8f",
   "metadata": {},
   "outputs": [],
   "source": [
    "Rating=rating[0:10]"
   ]
  },
  {
   "cell_type": "code",
   "execution_count": 104,
   "id": "3e70cd37",
   "metadata": {},
   "outputs": [
    {
     "name": "stdout",
     "output_type": "stream",
     "text": [
      "['26', '5', '49', '14', '16', '143', '161', '9', '24', '38']\n"
     ]
    }
   ],
   "source": [
    "print(Rating)"
   ]
  },
  {
   "cell_type": "code",
   "execution_count": 105,
   "id": "5f3bace7",
   "metadata": {},
   "outputs": [
    {
     "data": {
      "text/html": [
       "<div>\n",
       "<style scoped>\n",
       "    .dataframe tbody tr th:only-of-type {\n",
       "        vertical-align: middle;\n",
       "    }\n",
       "\n",
       "    .dataframe tbody tr th {\n",
       "        vertical-align: top;\n",
       "    }\n",
       "\n",
       "    .dataframe thead th {\n",
       "        text-align: right;\n",
       "    }\n",
       "</style>\n",
       "<table border=\"1\" class=\"dataframe\">\n",
       "  <thead>\n",
       "    <tr style=\"text-align: right;\">\n",
       "      <th></th>\n",
       "      <th>Title</th>\n",
       "      <th>Price</th>\n",
       "      <th>Rating</th>\n",
       "    </tr>\n",
       "  </thead>\n",
       "  <tbody>\n",
       "    <tr>\n",
       "      <th>0</th>\n",
       "      <td>ASUS TUF Gaming F15 (2021), 15.6\" (39.62 cms) ...</td>\n",
       "      <td>89,990</td>\n",
       "      <td>26</td>\n",
       "    </tr>\n",
       "    <tr>\n",
       "      <th>1</th>\n",
       "      <td>Hp Pavilion 15 12Th Gen Intel Core I7 16Gb Sdr...</td>\n",
       "      <td>76,492</td>\n",
       "      <td>5</td>\n",
       "    </tr>\n",
       "    <tr>\n",
       "      <th>2</th>\n",
       "      <td>Lenovo ThinkBook 15 Intel 11th Gen Core i7 15....</td>\n",
       "      <td>87,900</td>\n",
       "      <td>49</td>\n",
       "    </tr>\n",
       "    <tr>\n",
       "      <th>3</th>\n",
       "      <td>Hp Pavilion X360 11Th Gen Intel Core I7 14 Inc...</td>\n",
       "      <td>86,990</td>\n",
       "      <td>14</td>\n",
       "    </tr>\n",
       "    <tr>\n",
       "      <th>4</th>\n",
       "      <td>Samsung Galaxy Book2 Intel 12th Gen core i7 39...</td>\n",
       "      <td>82,990</td>\n",
       "      <td>16</td>\n",
       "    </tr>\n",
       "    <tr>\n",
       "      <th>5</th>\n",
       "      <td>LG Gram 16 Intel Evo 11th Gen i7 Thin &amp; Light ...</td>\n",
       "      <td>79,990</td>\n",
       "      <td>143</td>\n",
       "    </tr>\n",
       "    <tr>\n",
       "      <th>6</th>\n",
       "      <td>ASUS Vivobook 15, 15.6-inch (39.62 cms) FHD, I...</td>\n",
       "      <td>85,499</td>\n",
       "      <td>161</td>\n",
       "    </tr>\n",
       "    <tr>\n",
       "      <th>7</th>\n",
       "      <td>HP Pavilion 14 12th Gen Intel Core i7 16GB SDR...</td>\n",
       "      <td>57,890</td>\n",
       "      <td>9</td>\n",
       "    </tr>\n",
       "    <tr>\n",
       "      <th>8</th>\n",
       "      <td>Lenovo ThinkBook 13s Intel 11th Gen Core i7 13...</td>\n",
       "      <td>86,990</td>\n",
       "      <td>24</td>\n",
       "    </tr>\n",
       "    <tr>\n",
       "      <th>9</th>\n",
       "      <td>HP Pavilion 11th Gen Intel Core i7 15.6 inches...</td>\n",
       "      <td>89,990</td>\n",
       "      <td>38</td>\n",
       "    </tr>\n",
       "  </tbody>\n",
       "</table>\n",
       "</div>"
      ],
      "text/plain": [
       "                                               Title   Price Rating\n",
       "0  ASUS TUF Gaming F15 (2021), 15.6\" (39.62 cms) ...  89,990     26\n",
       "1  Hp Pavilion 15 12Th Gen Intel Core I7 16Gb Sdr...  76,492      5\n",
       "2  Lenovo ThinkBook 15 Intel 11th Gen Core i7 15....  87,900     49\n",
       "3  Hp Pavilion X360 11Th Gen Intel Core I7 14 Inc...  86,990     14\n",
       "4  Samsung Galaxy Book2 Intel 12th Gen core i7 39...  82,990     16\n",
       "5  LG Gram 16 Intel Evo 11th Gen i7 Thin & Light ...  79,990    143\n",
       "6  ASUS Vivobook 15, 15.6-inch (39.62 cms) FHD, I...  85,499    161\n",
       "7  HP Pavilion 14 12th Gen Intel Core i7 16GB SDR...  57,890      9\n",
       "8  Lenovo ThinkBook 13s Intel 11th Gen Core i7 13...  86,990     24\n",
       "9  HP Pavilion 11th Gen Intel Core i7 15.6 inches...  89,990     38"
      ]
     },
     "execution_count": 105,
     "metadata": {},
     "output_type": "execute_result"
    }
   ],
   "source": [
    "pd.DataFrame({'Title':Title,'Price':Price,'Rating':Rating})"
   ]
  },
  {
   "cell_type": "code",
   "execution_count": 116,
   "id": "96a01832",
   "metadata": {},
   "outputs": [],
   "source": [
    "##9. Scrape data from datascientist job from ambitionbox.com"
   ]
  },
  {
   "cell_type": "code",
   "execution_count": 161,
   "id": "d683d979",
   "metadata": {},
   "outputs": [
    {
     "name": "stderr",
     "output_type": "stream",
     "text": [
      "C:\\Users\\User\\AppData\\Local\\Temp\\ipykernel_13016\\2098743519.py:1: DeprecationWarning: executable_path has been deprecated, please pass in a Service object\n",
      "  driver=webdriver.Chrome('chromedriver.exe')\n"
     ]
    }
   ],
   "source": [
    "driver=webdriver.Chrome('chromedriver.exe')\n",
    "\n",
    "\n",
    "\n",
    "url='https://www.ambitionbox.com/'"
   ]
  },
  {
   "cell_type": "code",
   "execution_count": 162,
   "id": "8f97d39e",
   "metadata": {},
   "outputs": [],
   "source": [
    "driver.get(url)"
   ]
  },
  {
   "cell_type": "code",
   "execution_count": 164,
   "id": "e3275055",
   "metadata": {},
   "outputs": [],
   "source": [
    "search_job=driver.find_element(By.XPATH,'/html/body/div[1]/nav/nav/a[6]')\n",
    "\n",
    "search_job.click()                               "
   ]
  },
  {
   "cell_type": "code",
   "execution_count": 165,
   "id": "9d78bf40",
   "metadata": {},
   "outputs": [],
   "source": [
    "jobs=driver.find_element(By.XPATH,'/html/body/div/div/div/div[2]/div[1]/div[1]/div/div/div/div/span/input')"
   ]
  },
  {
   "cell_type": "code",
   "execution_count": 166,
   "id": "0be9c537",
   "metadata": {},
   "outputs": [],
   "source": [
    "jobs.send_keys('DATA SCIENTIST')"
   ]
  },
  {
   "cell_type": "code",
   "execution_count": 167,
   "id": "7659c70e",
   "metadata": {},
   "outputs": [],
   "source": [
    "search=driver.find_element(By.XPATH,'/html/body/div/div/div/div[2]/div[1]/div[1]/div/div/div/button/span')"
   ]
  },
  {
   "cell_type": "code",
   "execution_count": 168,
   "id": "b57809c8",
   "metadata": {},
   "outputs": [],
   "source": [
    "search.click()"
   ]
  },
  {
   "cell_type": "code",
   "execution_count": 169,
   "id": "4c122947",
   "metadata": {},
   "outputs": [],
   "source": [
    "location=driver.find_element(By.XPATH,'/html/body/div/div/div/div[2]/div[1]/div[2]/div[1]/div/div/div/div[2]/div[2]/div/div[2]/input')"
   ]
  },
  {
   "cell_type": "code",
   "execution_count": 170,
   "id": "d400da4e",
   "metadata": {},
   "outputs": [],
   "source": [
    "location.send_keys('Noida')"
   ]
  },
  {
   "cell_type": "code",
   "execution_count": 171,
   "id": "9d3e8692",
   "metadata": {},
   "outputs": [],
   "source": [
    "noi=driver.find_element(By.XPATH,'/html/body/div/div/div/div[2]/div[1]/div[2]/div[1]/div/div/div/div[2]/div[2]/div/div[3]/div[1]/div[1]')"
   ]
  },
  {
   "cell_type": "code",
   "execution_count": 172,
   "id": "4d6a91f5",
   "metadata": {},
   "outputs": [],
   "source": [
    "noi.click()"
   ]
  },
  {
   "cell_type": "code",
   "execution_count": 173,
   "id": "7a28f7df",
   "metadata": {},
   "outputs": [],
   "source": [
    "title_tag=driver.find_elements(By.XPATH,'//a[@class=\"title noclick\"]')"
   ]
  },
  {
   "cell_type": "code",
   "execution_count": 174,
   "id": "e2d52d2f",
   "metadata": {},
   "outputs": [
    {
     "data": {
      "text/plain": [
       "10"
      ]
     },
     "execution_count": 174,
     "metadata": {},
     "output_type": "execute_result"
    }
   ],
   "source": [
    "len(title_tag)"
   ]
  },
  {
   "cell_type": "code",
   "execution_count": 175,
   "id": "914b8b5b",
   "metadata": {},
   "outputs": [],
   "source": [
    "title=[]\n",
    "for i in title_tag:\n",
    "    title.append(i.text)"
   ]
  },
  {
   "cell_type": "code",
   "execution_count": 176,
   "id": "7415be38",
   "metadata": {},
   "outputs": [
    {
     "name": "stdout",
     "output_type": "stream",
     "text": [
      "['Senior Data Scientist', 'Data Scientist- Forecasting and R or Python', 'Data Scientist - Machine Learning Algorithms (3-8 yrs)', 'Data Scientist - Machine Learning/Big Data (0-4 yrs)', 'Info Edge - Data Scientist - Machine Learning/NLP (0-2 yrs)', 'Info Edge - Senior Data Scientist - Machine Learning/Deep Learning (3-5 yrs)', 'LatentBridge - Data Scientist - Python/R (2-6 yrs)', 'Data Science Trainer | AI | Machine Learning | Python |', 'Principal Scientist - Machine Learning - IT (15-26 yrs)', 'Data Scientist - NLP']\n"
     ]
    }
   ],
   "source": [
    "print(title)"
   ]
  },
  {
   "cell_type": "code",
   "execution_count": 177,
   "id": "be9874e6",
   "metadata": {},
   "outputs": [],
   "source": [
    "com_tag=driver.find_elements(By.XPATH,'//p[@class=\"company body-medium\"]')"
   ]
  },
  {
   "cell_type": "code",
   "execution_count": 178,
   "id": "c176a151",
   "metadata": {},
   "outputs": [
    {
     "data": {
      "text/plain": [
       "10"
      ]
     },
     "execution_count": 178,
     "metadata": {},
     "output_type": "execute_result"
    }
   ],
   "source": [
    "len(com_tag)"
   ]
  },
  {
   "cell_type": "code",
   "execution_count": 179,
   "id": "06416ec5",
   "metadata": {},
   "outputs": [],
   "source": [
    "company=[]\n",
    "for i in com_tag:\n",
    "    company.append(i.text)"
   ]
  },
  {
   "cell_type": "code",
   "execution_count": 180,
   "id": "cb03d742",
   "metadata": {},
   "outputs": [
    {
     "name": "stdout",
     "output_type": "stream",
     "text": [
      "['Optum Global Solutions (India) Private Limited', 'GENPACT India Private Limited', 'Dew Solutions Pvt. Ltd.', 'InfoEdge India Ltd.', 'Info Edge India Limited', 'Info Edge India Limited', 'Latent bridge', 'Careerera', 'Careernet Consulting', 'Acidaes Solutions Pvt. Ltd.']\n"
     ]
    }
   ],
   "source": [
    "print(company)"
   ]
  },
  {
   "cell_type": "code",
   "execution_count": 187,
   "id": "0e68122d",
   "metadata": {},
   "outputs": [],
   "source": [
    "loc_tag=driver.find_elements(By.XPATH,'//div[@class=\"entity loc\"]')"
   ]
  },
  {
   "cell_type": "code",
   "execution_count": 190,
   "id": "83f6c86a",
   "metadata": {},
   "outputs": [],
   "source": [
    "Location=[]\n",
    "for i in loc_tag:\n",
    "    Location.append(i.text.strip())"
   ]
  },
  {
   "cell_type": "code",
   "execution_count": 191,
   "id": "5269aabf",
   "metadata": {},
   "outputs": [
    {
     "name": "stdout",
     "output_type": "stream",
     "text": [
      "['Noida', 'Noida', 'Noida', 'Gurgaon/Gurugram, Bengaluru/Bangalore, Pune +2 more', 'Noida', 'Noida', 'Noida', 'Gurgaon/Gurugram, Delhi NCR, Noida', 'Noida', 'Noida', 'Noida']\n"
     ]
    }
   ],
   "source": [
    "print(Location)"
   ]
  },
  {
   "cell_type": "code",
   "execution_count": 192,
   "id": "9604a05c",
   "metadata": {},
   "outputs": [
    {
     "data": {
      "text/plain": [
       "11"
      ]
     },
     "execution_count": 192,
     "metadata": {},
     "output_type": "execute_result"
    }
   ],
   "source": [
    "len(Location)"
   ]
  },
  {
   "cell_type": "code",
   "execution_count": 193,
   "id": "5741d70c",
   "metadata": {},
   "outputs": [],
   "source": [
    "location=Location[0:10]"
   ]
  },
  {
   "cell_type": "code",
   "execution_count": 194,
   "id": "420c45ce",
   "metadata": {},
   "outputs": [
    {
     "data": {
      "text/html": [
       "<div>\n",
       "<style scoped>\n",
       "    .dataframe tbody tr th:only-of-type {\n",
       "        vertical-align: middle;\n",
       "    }\n",
       "\n",
       "    .dataframe tbody tr th {\n",
       "        vertical-align: top;\n",
       "    }\n",
       "\n",
       "    .dataframe thead th {\n",
       "        text-align: right;\n",
       "    }\n",
       "</style>\n",
       "<table border=\"1\" class=\"dataframe\">\n",
       "  <thead>\n",
       "    <tr style=\"text-align: right;\">\n",
       "      <th></th>\n",
       "      <th>title</th>\n",
       "      <th>company</th>\n",
       "      <th>loction</th>\n",
       "    </tr>\n",
       "  </thead>\n",
       "  <tbody>\n",
       "    <tr>\n",
       "      <th>0</th>\n",
       "      <td>Senior Data Scientist</td>\n",
       "      <td>Optum Global Solutions (India) Private Limited</td>\n",
       "      <td>Noida</td>\n",
       "    </tr>\n",
       "    <tr>\n",
       "      <th>1</th>\n",
       "      <td>Data Scientist- Forecasting and R or Python</td>\n",
       "      <td>GENPACT India Private Limited</td>\n",
       "      <td>Noida</td>\n",
       "    </tr>\n",
       "    <tr>\n",
       "      <th>2</th>\n",
       "      <td>Data Scientist - Machine Learning Algorithms (...</td>\n",
       "      <td>Dew Solutions Pvt. Ltd.</td>\n",
       "      <td>Noida</td>\n",
       "    </tr>\n",
       "    <tr>\n",
       "      <th>3</th>\n",
       "      <td>Data Scientist - Machine Learning/Big Data (0-...</td>\n",
       "      <td>InfoEdge India Ltd.</td>\n",
       "      <td>Gurgaon/Gurugram, Bengaluru/Bangalore, Pune +2...</td>\n",
       "    </tr>\n",
       "    <tr>\n",
       "      <th>4</th>\n",
       "      <td>Info Edge - Data Scientist - Machine Learning/...</td>\n",
       "      <td>Info Edge India Limited</td>\n",
       "      <td>Noida</td>\n",
       "    </tr>\n",
       "    <tr>\n",
       "      <th>5</th>\n",
       "      <td>Info Edge - Senior Data Scientist - Machine Le...</td>\n",
       "      <td>Info Edge India Limited</td>\n",
       "      <td>Noida</td>\n",
       "    </tr>\n",
       "    <tr>\n",
       "      <th>6</th>\n",
       "      <td>LatentBridge - Data Scientist - Python/R (2-6 ...</td>\n",
       "      <td>Latent bridge</td>\n",
       "      <td>Noida</td>\n",
       "    </tr>\n",
       "    <tr>\n",
       "      <th>7</th>\n",
       "      <td>Data Science Trainer | AI | Machine Learning |...</td>\n",
       "      <td>Careerera</td>\n",
       "      <td>Gurgaon/Gurugram, Delhi NCR, Noida</td>\n",
       "    </tr>\n",
       "    <tr>\n",
       "      <th>8</th>\n",
       "      <td>Principal Scientist - Machine Learning - IT (1...</td>\n",
       "      <td>Careernet Consulting</td>\n",
       "      <td>Noida</td>\n",
       "    </tr>\n",
       "    <tr>\n",
       "      <th>9</th>\n",
       "      <td>Data Scientist - NLP</td>\n",
       "      <td>Acidaes Solutions Pvt. Ltd.</td>\n",
       "      <td>Noida</td>\n",
       "    </tr>\n",
       "  </tbody>\n",
       "</table>\n",
       "</div>"
      ],
      "text/plain": [
       "                                               title  \\\n",
       "0                              Senior Data Scientist   \n",
       "1        Data Scientist- Forecasting and R or Python   \n",
       "2  Data Scientist - Machine Learning Algorithms (...   \n",
       "3  Data Scientist - Machine Learning/Big Data (0-...   \n",
       "4  Info Edge - Data Scientist - Machine Learning/...   \n",
       "5  Info Edge - Senior Data Scientist - Machine Le...   \n",
       "6  LatentBridge - Data Scientist - Python/R (2-6 ...   \n",
       "7  Data Science Trainer | AI | Machine Learning |...   \n",
       "8  Principal Scientist - Machine Learning - IT (1...   \n",
       "9                               Data Scientist - NLP   \n",
       "\n",
       "                                          company  \\\n",
       "0  Optum Global Solutions (India) Private Limited   \n",
       "1                   GENPACT India Private Limited   \n",
       "2                         Dew Solutions Pvt. Ltd.   \n",
       "3                             InfoEdge India Ltd.   \n",
       "4                         Info Edge India Limited   \n",
       "5                         Info Edge India Limited   \n",
       "6                                   Latent bridge   \n",
       "7                                       Careerera   \n",
       "8                            Careernet Consulting   \n",
       "9                     Acidaes Solutions Pvt. Ltd.   \n",
       "\n",
       "                                             loction  \n",
       "0                                              Noida  \n",
       "1                                              Noida  \n",
       "2                                              Noida  \n",
       "3  Gurgaon/Gurugram, Bengaluru/Bangalore, Pune +2...  \n",
       "4                                              Noida  \n",
       "5                                              Noida  \n",
       "6                                              Noida  \n",
       "7                 Gurgaon/Gurugram, Delhi NCR, Noida  \n",
       "8                                              Noida  \n",
       "9                                              Noida  "
      ]
     },
     "execution_count": 194,
     "metadata": {},
     "output_type": "execute_result"
    }
   ],
   "source": [
    "pd.DataFrame({'title':title,'company':company,'loction':location})"
   ]
  },
  {
   "cell_type": "code",
   "execution_count": 195,
   "id": "cec10bec",
   "metadata": {},
   "outputs": [],
   "source": [
    "## 10.Scrape the salary from ambitionbox.com"
   ]
  },
  {
   "cell_type": "code",
   "execution_count": 196,
   "id": "6cdf6509",
   "metadata": {},
   "outputs": [
    {
     "name": "stderr",
     "output_type": "stream",
     "text": [
      "C:\\Users\\User\\AppData\\Local\\Temp\\ipykernel_13016\\2098743519.py:1: DeprecationWarning: executable_path has been deprecated, please pass in a Service object\n",
      "  driver=webdriver.Chrome('chromedriver.exe')\n"
     ]
    }
   ],
   "source": [
    "driver=webdriver.Chrome('chromedriver.exe')\n",
    "\n",
    "\n",
    "\n",
    "url='https://www.ambitionbox.com/'"
   ]
  },
  {
   "cell_type": "code",
   "execution_count": 197,
   "id": "45dcf3b4",
   "metadata": {},
   "outputs": [],
   "source": [
    "driver.get(url)"
   ]
  },
  {
   "cell_type": "code",
   "execution_count": 198,
   "id": "7e025cd8",
   "metadata": {},
   "outputs": [],
   "source": [
    "sal_tag=driver.find_element(By.XPATH,'/html/body/div[1]/nav/nav/a[4]')"
   ]
  },
  {
   "cell_type": "code",
   "execution_count": 199,
   "id": "49298666",
   "metadata": {},
   "outputs": [],
   "source": [
    "sal_tag.click()"
   ]
  },
  {
   "cell_type": "code",
   "execution_count": 200,
   "id": "6ecc34af",
   "metadata": {},
   "outputs": [],
   "source": [
    "search_tag=driver.find_element(By.XPATH,'/html/body/div/div/div/div[2]/div/div/div/div[1]/span/input')"
   ]
  },
  {
   "cell_type": "code",
   "execution_count": 202,
   "id": "efac1e53",
   "metadata": {},
   "outputs": [],
   "source": [
    "search_tag.send_keys('Data Scientist')"
   ]
  },
  {
   "cell_type": "code",
   "execution_count": 203,
   "id": "66910cb8",
   "metadata": {},
   "outputs": [],
   "source": [
    "search=driver.find_element(By.XPATH,'/html/body/div/div/div/div[2]/div/div/div/button/span')"
   ]
  },
  {
   "cell_type": "code",
   "execution_count": 204,
   "id": "9c6399c5",
   "metadata": {},
   "outputs": [],
   "source": [
    "search.click()"
   ]
  },
  {
   "cell_type": "code",
   "execution_count": 205,
   "id": "08d2746f",
   "metadata": {},
   "outputs": [],
   "source": [
    "comp_tag=driver.find_elements(By.XPATH,'//div[@class=\"company-info\"]')"
   ]
  },
  {
   "cell_type": "code",
   "execution_count": 206,
   "id": "1266e41c",
   "metadata": {},
   "outputs": [
    {
     "data": {
      "text/plain": [
       "25"
      ]
     },
     "execution_count": 206,
     "metadata": {},
     "output_type": "execute_result"
    }
   ],
   "source": [
    "len(comp_tag)"
   ]
  },
  {
   "cell_type": "code",
   "execution_count": 209,
   "id": "41a41c42",
   "metadata": {},
   "outputs": [],
   "source": [
    "companay=[]\n",
    "for i in comp_tag:\n",
    "    company.append(i.text)"
   ]
  },
  {
   "cell_type": "code",
   "execution_count": 218,
   "id": "e5313b6e",
   "metadata": {},
   "outputs": [],
   "source": [
    "Company=company[23:]"
   ]
  },
  {
   "cell_type": "code",
   "execution_count": 226,
   "id": "c8e99d5c",
   "metadata": {},
   "outputs": [],
   "source": [
    "COMPANY=Company[0:10]"
   ]
  },
  {
   "cell_type": "code",
   "execution_count": 227,
   "id": "5712b5a9",
   "metadata": {},
   "outputs": [
    {
     "data": {
      "text/plain": [
       "['Walmart\\nData Scientist Salary\\n3 yrs experience (based on 12 salaries)',\n",
       " 'Ab Inbev\\nData Scientist Salary\\n3-4 yrs experience (based on 33 salaries)',\n",
       " 'ZS\\nData Scientist Salary\\n2 yrs experience (based on 15 salaries)',\n",
       " 'Optum\\nData Scientist Salary\\n3-4 yrs experience (based on 32 salaries)',\n",
       " 'Reliance Jio\\nData Scientist Salary\\n3-4 yrs experience (based on 21 salaries)',\n",
       " 'Fractal Analytics\\nData Scientist Salary\\n2-4 yrs experience (based on 89 salaries)',\n",
       " 'Tiger Analytics\\nData Scientist Salary\\n2-4 yrs experience (based on 51 salaries)',\n",
       " 'UnitedHealth\\nData Scientist Salary\\n2-4 yrs experience (based on 57 salaries)',\n",
       " 'EXL Service\\nData Scientist Salary\\n3-4 yrs experience (based on 21 salaries)',\n",
       " 'Deloitte\\nData Scientist Salary\\n2-4 yrs experience (based on 69 salaries)']"
      ]
     },
     "execution_count": 227,
     "metadata": {},
     "output_type": "execute_result"
    }
   ],
   "source": [
    "COMPANY"
   ]
  },
  {
   "cell_type": "code",
   "execution_count": 234,
   "id": "b9dc41c0",
   "metadata": {},
   "outputs": [
    {
     "name": "stdout",
     "output_type": "stream",
     "text": [
      "Walmart\n",
      "Ab\n",
      "ZS\n",
      "Optum\n",
      "Reliance\n",
      "Fractal\n",
      "Tiger\n",
      "UnitedHealth\n",
      "EXL\n",
      "Deloitte\n"
     ]
    }
   ],
   "source": [
    "comp=[]\n",
    "for i in COMPANY:\n",
    "    k=i.split()[0]\n",
    "    print(k)\n",
    "    comp.append(k)"
   ]
  },
  {
   "cell_type": "code",
   "execution_count": 245,
   "id": "abfedbf3",
   "metadata": {},
   "outputs": [],
   "source": [
    "Experience=[]\n",
    "for i in COMPANY:\n",
    "    r=i.split()[-7]\n",
    "    Experience.append(r)\n",
    "    "
   ]
  },
  {
   "cell_type": "code",
   "execution_count": 246,
   "id": "bb159ffe",
   "metadata": {},
   "outputs": [
    {
     "data": {
      "text/plain": [
       "['3', '3-4', '2', '3-4', '3-4', '2-4', '2-4', '2-4', '3-4', '2-4']"
      ]
     },
     "execution_count": 246,
     "metadata": {},
     "output_type": "execute_result"
    }
   ],
   "source": [
    "Experience"
   ]
  },
  {
   "cell_type": "code",
   "execution_count": 255,
   "id": "6bb9fe36",
   "metadata": {},
   "outputs": [],
   "source": [
    "avg_sal=driver.find_elements(By.XPATH,'//div[@class=\"value body-medium\"]')"
   ]
  },
  {
   "cell_type": "code",
   "execution_count": 256,
   "id": "6b71ca56",
   "metadata": {},
   "outputs": [],
   "source": [
    "Salary=[]\n",
    "for i in avg_sal:\n",
    "    Salary.append(i.text)"
   ]
  },
  {
   "cell_type": "code",
   "execution_count": 291,
   "id": "29040e43",
   "metadata": {},
   "outputs": [
    {
     "data": {
      "text/plain": [
       "['₹ 25.0L',\n",
       " '₹ 15.0L',\n",
       " '₹ 11.0L',\n",
       " '₹ 11.0L',\n",
       " '₹ 5.6L',\n",
       " '₹ 10.0L',\n",
       " '₹ 9.0L',\n",
       " '₹ 8.3L',\n",
       " '₹ 7.6L',\n",
       " '₹ 7.0L']"
      ]
     },
     "execution_count": 291,
     "metadata": {},
     "output_type": "execute_result"
    }
   ],
   "source": [
    "min_sal=Salary[0::2]\n",
    "min_sal"
   ]
  },
  {
   "cell_type": "code",
   "execution_count": 266,
   "id": "d9214c49",
   "metadata": {},
   "outputs": [],
   "source": [
    "average_sal=driver.find_elements(By.XPATH,'//p[@class=\"averageCtc\"]')"
   ]
  },
  {
   "cell_type": "code",
   "execution_count": 269,
   "id": "6525d620",
   "metadata": {},
   "outputs": [],
   "source": [
    "Average=[]\n",
    "for i in average_sal:\n",
    "    Average.append(i.text)"
   ]
  },
  {
   "cell_type": "code",
   "execution_count": 270,
   "id": "6214bdfc",
   "metadata": {},
   "outputs": [
    {
     "data": {
      "text/plain": [
       "['₹ 30.6L',\n",
       " '₹ 20.8L',\n",
       " '₹ 16.7L',\n",
       " '₹ 15.9L',\n",
       " '₹ 15.7L',\n",
       " '₹ 15.5L',\n",
       " '₹ 14.8L',\n",
       " '₹ 14.0L',\n",
       " '₹ 13.2L',\n",
       " '₹ 12.8L']"
      ]
     },
     "execution_count": 270,
     "metadata": {},
     "output_type": "execute_result"
    }
   ],
   "source": [
    "Average"
   ]
  },
  {
   "cell_type": "code",
   "execution_count": 274,
   "id": "8bcffadd",
   "metadata": {},
   "outputs": [],
   "source": [
    "max_sal=driver.find_elements(By.XPATH,'//div[@class=\"value body-medium\"]')"
   ]
  },
  {
   "cell_type": "code",
   "execution_count": 275,
   "id": "b8f7837f",
   "metadata": {},
   "outputs": [],
   "source": [
    "Max=[]\n",
    "for i in max_sal:\n",
    "    Max.append(i.text)"
   ]
  },
  {
   "cell_type": "code",
   "execution_count": 287,
   "id": "3ffc2b90",
   "metadata": {},
   "outputs": [],
   "source": [
    "max_salary=Max[1::2]"
   ]
  },
  {
   "cell_type": "code",
   "execution_count": 288,
   "id": "1dd685b9",
   "metadata": {},
   "outputs": [
    {
     "data": {
      "text/plain": [
       "['₹ 36.0L',\n",
       " '₹ 26.2L',\n",
       " '₹ 22.0L',\n",
       " '₹ 22.5L',\n",
       " '₹ 26.2L',\n",
       " '₹ 23.0L',\n",
       " '₹ 20.0L',\n",
       " '₹ 21.1L',\n",
       " '₹ 21.0L',\n",
       " '₹ 25.0L']"
      ]
     },
     "execution_count": 288,
     "metadata": {},
     "output_type": "execute_result"
    }
   ],
   "source": [
    "max_salary"
   ]
  },
  {
   "cell_type": "code",
   "execution_count": 292,
   "id": "e8bfb61e",
   "metadata": {},
   "outputs": [
    {
     "data": {
      "text/html": [
       "<div>\n",
       "<style scoped>\n",
       "    .dataframe tbody tr th:only-of-type {\n",
       "        vertical-align: middle;\n",
       "    }\n",
       "\n",
       "    .dataframe tbody tr th {\n",
       "        vertical-align: top;\n",
       "    }\n",
       "\n",
       "    .dataframe thead th {\n",
       "        text-align: right;\n",
       "    }\n",
       "</style>\n",
       "<table border=\"1\" class=\"dataframe\">\n",
       "  <thead>\n",
       "    <tr style=\"text-align: right;\">\n",
       "      <th></th>\n",
       "      <th>Company</th>\n",
       "      <th>Experience</th>\n",
       "      <th>Min_salary</th>\n",
       "      <th>Average</th>\n",
       "      <th>Max_salary</th>\n",
       "    </tr>\n",
       "  </thead>\n",
       "  <tbody>\n",
       "    <tr>\n",
       "      <th>0</th>\n",
       "      <td>Walmart</td>\n",
       "      <td>3</td>\n",
       "      <td>₹ 25.0L</td>\n",
       "      <td>₹ 30.6L</td>\n",
       "      <td>₹ 36.0L</td>\n",
       "    </tr>\n",
       "    <tr>\n",
       "      <th>1</th>\n",
       "      <td>Ab</td>\n",
       "      <td>3-4</td>\n",
       "      <td>₹ 15.0L</td>\n",
       "      <td>₹ 20.8L</td>\n",
       "      <td>₹ 26.2L</td>\n",
       "    </tr>\n",
       "    <tr>\n",
       "      <th>2</th>\n",
       "      <td>ZS</td>\n",
       "      <td>2</td>\n",
       "      <td>₹ 11.0L</td>\n",
       "      <td>₹ 16.7L</td>\n",
       "      <td>₹ 22.0L</td>\n",
       "    </tr>\n",
       "    <tr>\n",
       "      <th>3</th>\n",
       "      <td>Optum</td>\n",
       "      <td>3-4</td>\n",
       "      <td>₹ 11.0L</td>\n",
       "      <td>₹ 15.9L</td>\n",
       "      <td>₹ 22.5L</td>\n",
       "    </tr>\n",
       "    <tr>\n",
       "      <th>4</th>\n",
       "      <td>Reliance</td>\n",
       "      <td>3-4</td>\n",
       "      <td>₹ 5.6L</td>\n",
       "      <td>₹ 15.7L</td>\n",
       "      <td>₹ 26.2L</td>\n",
       "    </tr>\n",
       "    <tr>\n",
       "      <th>5</th>\n",
       "      <td>Fractal</td>\n",
       "      <td>2-4</td>\n",
       "      <td>₹ 10.0L</td>\n",
       "      <td>₹ 15.5L</td>\n",
       "      <td>₹ 23.0L</td>\n",
       "    </tr>\n",
       "    <tr>\n",
       "      <th>6</th>\n",
       "      <td>Tiger</td>\n",
       "      <td>2-4</td>\n",
       "      <td>₹ 9.0L</td>\n",
       "      <td>₹ 14.8L</td>\n",
       "      <td>₹ 20.0L</td>\n",
       "    </tr>\n",
       "    <tr>\n",
       "      <th>7</th>\n",
       "      <td>UnitedHealth</td>\n",
       "      <td>2-4</td>\n",
       "      <td>₹ 8.3L</td>\n",
       "      <td>₹ 14.0L</td>\n",
       "      <td>₹ 21.1L</td>\n",
       "    </tr>\n",
       "    <tr>\n",
       "      <th>8</th>\n",
       "      <td>EXL</td>\n",
       "      <td>3-4</td>\n",
       "      <td>₹ 7.6L</td>\n",
       "      <td>₹ 13.2L</td>\n",
       "      <td>₹ 21.0L</td>\n",
       "    </tr>\n",
       "    <tr>\n",
       "      <th>9</th>\n",
       "      <td>Deloitte</td>\n",
       "      <td>2-4</td>\n",
       "      <td>₹ 7.0L</td>\n",
       "      <td>₹ 12.8L</td>\n",
       "      <td>₹ 25.0L</td>\n",
       "    </tr>\n",
       "  </tbody>\n",
       "</table>\n",
       "</div>"
      ],
      "text/plain": [
       "        Company Experience Min_salary  Average Max_salary\n",
       "0       Walmart          3    ₹ 25.0L  ₹ 30.6L    ₹ 36.0L\n",
       "1            Ab        3-4    ₹ 15.0L  ₹ 20.8L    ₹ 26.2L\n",
       "2            ZS          2    ₹ 11.0L  ₹ 16.7L    ₹ 22.0L\n",
       "3         Optum        3-4    ₹ 11.0L  ₹ 15.9L    ₹ 22.5L\n",
       "4      Reliance        3-4     ₹ 5.6L  ₹ 15.7L    ₹ 26.2L\n",
       "5       Fractal        2-4    ₹ 10.0L  ₹ 15.5L    ₹ 23.0L\n",
       "6         Tiger        2-4     ₹ 9.0L  ₹ 14.8L    ₹ 20.0L\n",
       "7  UnitedHealth        2-4     ₹ 8.3L  ₹ 14.0L    ₹ 21.1L\n",
       "8           EXL        3-4     ₹ 7.6L  ₹ 13.2L    ₹ 21.0L\n",
       "9      Deloitte        2-4     ₹ 7.0L  ₹ 12.8L    ₹ 25.0L"
      ]
     },
     "execution_count": 292,
     "metadata": {},
     "output_type": "execute_result"
    }
   ],
   "source": [
    "pd.DataFrame({'Company':comp,'Experience':Experience,'Min_salary':min_sal,'Average':Average,'Max_salary':max_salary})"
   ]
  },
  {
   "cell_type": "code",
   "execution_count": null,
   "id": "13fb4dbd",
   "metadata": {},
   "outputs": [],
   "source": []
  }
 ],
 "metadata": {
  "kernelspec": {
   "display_name": "Python 3 (ipykernel)",
   "language": "python",
   "name": "python3"
  },
  "language_info": {
   "codemirror_mode": {
    "name": "ipython",
    "version": 3
   },
   "file_extension": ".py",
   "mimetype": "text/x-python",
   "name": "python",
   "nbconvert_exporter": "python",
   "pygments_lexer": "ipython3",
   "version": "3.9.12"
  }
 },
 "nbformat": 4,
 "nbformat_minor": 5
}
